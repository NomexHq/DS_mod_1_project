{
 "cells": [
  {
   "cell_type": "code",
   "execution_count": 1,
   "metadata": {},
   "outputs": [],
   "source": [
    "import requests\n",
    "import json\n",
    "import pandas as pd\n",
    "from config import api_key"
   ]
  },
  {
   "cell_type": "code",
   "execution_count": 5,
   "metadata": {},
   "outputs": [],
   "source": [
    "# api is relatively simple so just including api key in the url itself\n",
    "url = 'http://www.omdbapi.com/?&apikey=' + api_key"
   ]
  },
  {
   "cell_type": "code",
   "execution_count": 18,
   "metadata": {},
   "outputs": [
    {
     "data": {
      "text/plain": [
       "'Jurassic World: Fallen Kingdom'"
      ]
     },
     "execution_count": 18,
     "metadata": {},
     "output_type": "execute_result"
    }
   ],
   "source": [
    "# reading in our current list of popular movies to iterate over\n",
    "movie_data = pd.read_csv('movie_merge.csv')\n",
    "pop_movie_titles = movie_data['Title']\n",
    "pop_movie_titles\n",
    "pop_movie_titles[2]"
   ]
  },
  {
   "cell_type": "code",
   "execution_count": 10,
   "metadata": {},
   "outputs": [
    {
     "data": {
      "text/plain": [
       "{'Title': 'Avengers: Infinity War',\n",
       " 'Year': '2018',\n",
       " 'Rated': 'PG-13',\n",
       " 'Released': '27 Apr 2018',\n",
       " 'Runtime': '149 min',\n",
       " 'Genre': 'Action, Adventure, Fantasy, Sci-Fi',\n",
       " 'Director': 'Anthony Russo, Joe Russo',\n",
       " 'Writer': 'Christopher Markus (screenplay by), Stephen McFeely (screenplay by), Stan Lee (based on the Marvel comics by), Jack Kirby (based on the Marvel comics by), Joe Simon (Captain America created by), Jack Kirby (Captain America created by), Steve Englehart (Star-Lord created by), Steve Gan (Star-Lord created by), Bill Mantlo (Rocket Raccoon created by), Keith Giffen (Rocket Raccoon created by), Jim Starlin (Thanos,  Gamora and Drax created by), Stan Lee (Groot created by), Larry Lieber (Groot created by), Jack Kirby (Groot created by), Steve Englehart (Mantis created by), Don Heck (Mantis created by)',\n",
       " 'Actors': 'Robert Downey Jr., Chris Hemsworth, Mark Ruffalo, Chris Evans',\n",
       " 'Plot': 'The Avengers and their allies must be willing to sacrifice all in an attempt to defeat the powerful Thanos before his blitz of devastation and ruin puts an end to the universe.',\n",
       " 'Language': 'English',\n",
       " 'Country': 'USA',\n",
       " 'Awards': 'N/A',\n",
       " 'Poster': 'https://m.media-amazon.com/images/M/MV5BMjMxNjY2MDU1OV5BMl5BanBnXkFtZTgwNzY1MTUwNTM@._V1_SX300.jpg',\n",
       " 'Ratings': [{'Source': 'Internet Movie Database', 'Value': '8.5/10'},\n",
       "  {'Source': 'Rotten Tomatoes', 'Value': '85%'},\n",
       "  {'Source': 'Metacritic', 'Value': '68/100'}],\n",
       " 'Metascore': '68',\n",
       " 'imdbRating': '8.5',\n",
       " 'imdbVotes': '592,755',\n",
       " 'imdbID': 'tt4154756',\n",
       " 'Type': 'movie',\n",
       " 'DVD': '14 Aug 2018',\n",
       " 'BoxOffice': '$664,987,816',\n",
       " 'Production': 'Walt Disney Pictures',\n",
       " 'Website': 'http://marvel.com/movies/movie/223/avengers_infinity_war',\n",
       " 'Response': 'True'}"
      ]
     },
     "execution_count": 10,
     "metadata": {},
     "output_type": "execute_result"
    }
   ],
   "source": [
    "# function pulling all movies we're interested in\n",
    "def omdb_pull():\n",
    "    responses = []\n",
    "#     looping over each index value in the list i established above\n",
    "    for i in range(len(pop_movie_titles)):\n",
    "#         t refers to movie title. Replacing any spaces with a plus sign, plot parameter is for length of plot summary and r refers to data type\n",
    "        params = {'t':pop_movie_titles[i].replace(' ', '+'), 'plot':'short', 'r': 'json'}\n",
    "        response = requests.get(url, params=params)\n",
    "# appending all dictionaries to an empty list\n",
    "        responses.append(response.json())\n",
    "    return responses\n",
    "#saving as a variable to prevent need to query API again\n",
    "omdb_pull=omdb_pull()\n",
    "#GREAT SUCCESSS!!!!!!"
   ]
  },
  {
   "cell_type": "code",
   "execution_count": 7,
   "metadata": {},
   "outputs": [
    {
     "data": {
      "text/plain": [
       "{'Title': 'Avengers: Infinity War',\n",
       " 'Year': '2018',\n",
       " 'Rated': 'PG-13',\n",
       " 'Released': '27 Apr 2018',\n",
       " 'Runtime': '149 min',\n",
       " 'Genre': 'Action, Adventure, Fantasy, Sci-Fi',\n",
       " 'Director': 'Anthony Russo, Joe Russo',\n",
       " 'Writer': 'Christopher Markus (screenplay by), Stephen McFeely (screenplay by), Stan Lee (based on the Marvel comics by), Jack Kirby (based on the Marvel comics by), Joe Simon (Captain America created by), Jack Kirby (Captain America created by), Steve Englehart (Star-Lord created by), Steve Gan (Star-Lord created by), Bill Mantlo (Rocket Raccoon created by), Keith Giffen (Rocket Raccoon created by), Jim Starlin (Thanos,  Gamora and Drax created by), Stan Lee (Groot created by), Larry Lieber (Groot created by), Jack Kirby (Groot created by), Steve Englehart (Mantis created by), Don Heck (Mantis created by)',\n",
       " 'Actors': 'Robert Downey Jr., Chris Hemsworth, Mark Ruffalo, Chris Evans',\n",
       " 'Plot': 'The Avengers and their allies must be willing to sacrifice all in an attempt to defeat the powerful Thanos before his blitz of devastation and ruin puts an end to the universe.',\n",
       " 'Language': 'English',\n",
       " 'Country': 'USA',\n",
       " 'Awards': 'N/A',\n",
       " 'Poster': 'https://m.media-amazon.com/images/M/MV5BMjMxNjY2MDU1OV5BMl5BanBnXkFtZTgwNzY1MTUwNTM@._V1_SX300.jpg',\n",
       " 'Ratings': [{'Source': 'Internet Movie Database', 'Value': '8.5/10'},\n",
       "  {'Source': 'Rotten Tomatoes', 'Value': '85%'},\n",
       "  {'Source': 'Metacritic', 'Value': '68/100'}],\n",
       " 'Metascore': '68',\n",
       " 'imdbRating': '8.5',\n",
       " 'imdbVotes': '592,755',\n",
       " 'imdbID': 'tt4154756',\n",
       " 'Type': 'movie',\n",
       " 'DVD': '14 Aug 2018',\n",
       " 'BoxOffice': '$664,987,816',\n",
       " 'Production': 'Walt Disney Pictures',\n",
       " 'Website': 'http://marvel.com/movies/movie/223/avengers_infinity_war',\n",
       " 'Response': 'True'}"
      ]
     },
     "execution_count": 7,
     "metadata": {},
     "output_type": "execute_result"
    }
   ],
   "source": [
    "# testing 1 value before running loop above\n",
    "params = {'t':pop_movie_titles[0].replace(' ', '+'), 'plot':'short', 'r': 'json'}\n",
    "response = requests.get(url, params=params)\n",
    "response.json()"
   ]
  },
  {
   "cell_type": "code",
   "execution_count": 12,
   "metadata": {},
   "outputs": [
    {
     "data": {
      "text/plain": [
       "{'Title': 'Avengers: Infinity War',\n",
       " 'Year': '2018',\n",
       " 'Rated': 'PG-13',\n",
       " 'Released': '27 Apr 2018',\n",
       " 'Runtime': '149 min',\n",
       " 'Genre': 'Action, Adventure, Fantasy, Sci-Fi',\n",
       " 'Director': 'Anthony Russo, Joe Russo',\n",
       " 'Writer': 'Christopher Markus (screenplay by), Stephen McFeely (screenplay by), Stan Lee (based on the Marvel comics by), Jack Kirby (based on the Marvel comics by), Joe Simon (Captain America created by), Jack Kirby (Captain America created by), Steve Englehart (Star-Lord created by), Steve Gan (Star-Lord created by), Bill Mantlo (Rocket Raccoon created by), Keith Giffen (Rocket Raccoon created by), Jim Starlin (Thanos,  Gamora and Drax created by), Stan Lee (Groot created by), Larry Lieber (Groot created by), Jack Kirby (Groot created by), Steve Englehart (Mantis created by), Don Heck (Mantis created by)',\n",
       " 'Actors': 'Robert Downey Jr., Chris Hemsworth, Mark Ruffalo, Chris Evans',\n",
       " 'Plot': 'The Avengers and their allies must be willing to sacrifice all in an attempt to defeat the powerful Thanos before his blitz of devastation and ruin puts an end to the universe.',\n",
       " 'Language': 'English',\n",
       " 'Country': 'USA',\n",
       " 'Awards': 'N/A',\n",
       " 'Poster': 'https://m.media-amazon.com/images/M/MV5BMjMxNjY2MDU1OV5BMl5BanBnXkFtZTgwNzY1MTUwNTM@._V1_SX300.jpg',\n",
       " 'Ratings': [{'Source': 'Internet Movie Database', 'Value': '8.5/10'},\n",
       "  {'Source': 'Rotten Tomatoes', 'Value': '85%'},\n",
       "  {'Source': 'Metacritic', 'Value': '68/100'}],\n",
       " 'Metascore': '68',\n",
       " 'imdbRating': '8.5',\n",
       " 'imdbVotes': '592,755',\n",
       " 'imdbID': 'tt4154756',\n",
       " 'Type': 'movie',\n",
       " 'DVD': '14 Aug 2018',\n",
       " 'BoxOffice': '$664,987,816',\n",
       " 'Production': 'Walt Disney Pictures',\n",
       " 'Website': 'http://marvel.com/movies/movie/223/avengers_infinity_war',\n",
       " 'Response': 'True'}"
      ]
     },
     "execution_count": 12,
     "metadata": {},
     "output_type": "execute_result"
    }
   ],
   "source": [
    "# checking for one variable. it works yayyyyy\n",
    "omdb_pull[0]"
   ]
  },
  {
   "cell_type": "code",
   "execution_count": 19,
   "metadata": {},
   "outputs": [],
   "source": [
    "# converting to dataframe and saving as csv\n",
    "omdb = pd.DataFrame(omdb_pull)\n",
    "omdb.to_csv('omdb.csv')"
   ]
  },
  {
   "cell_type": "code",
   "execution_count": 15,
   "metadata": {},
   "outputs": [
    {
     "data": {
      "text/plain": [
       "838"
      ]
     },
     "execution_count": 15,
     "metadata": {},
     "output_type": "execute_result"
    }
   ],
   "source": [
    "# it pulled EVERY.SINGLE.TITLE. fantastic\n",
    "len(omdb)"
   ]
  },
  {
   "cell_type": "code",
   "execution_count": 20,
   "metadata": {},
   "outputs": [
    {
     "data": {
      "text/html": [
       "<div>\n",
       "<style scoped>\n",
       "    .dataframe tbody tr th:only-of-type {\n",
       "        vertical-align: middle;\n",
       "    }\n",
       "\n",
       "    .dataframe tbody tr th {\n",
       "        vertical-align: top;\n",
       "    }\n",
       "\n",
       "    .dataframe thead th {\n",
       "        text-align: right;\n",
       "    }\n",
       "</style>\n",
       "<table border=\"1\" class=\"dataframe\">\n",
       "  <thead>\n",
       "    <tr style=\"text-align: right;\">\n",
       "      <th></th>\n",
       "      <th>Actors</th>\n",
       "      <th>Awards</th>\n",
       "      <th>BoxOffice</th>\n",
       "      <th>Country</th>\n",
       "      <th>DVD</th>\n",
       "      <th>Director</th>\n",
       "      <th>Error</th>\n",
       "      <th>Genre</th>\n",
       "      <th>Language</th>\n",
       "      <th>Metascore</th>\n",
       "      <th>...</th>\n",
       "      <th>Runtime</th>\n",
       "      <th>Title</th>\n",
       "      <th>Type</th>\n",
       "      <th>Website</th>\n",
       "      <th>Writer</th>\n",
       "      <th>Year</th>\n",
       "      <th>imdbID</th>\n",
       "      <th>imdbRating</th>\n",
       "      <th>imdbVotes</th>\n",
       "      <th>totalSeasons</th>\n",
       "    </tr>\n",
       "  </thead>\n",
       "  <tbody>\n",
       "    <tr>\n",
       "      <th>0</th>\n",
       "      <td>Robert Downey Jr., Chris Hemsworth, Mark Ruffa...</td>\n",
       "      <td>N/A</td>\n",
       "      <td>$664,987,816</td>\n",
       "      <td>USA</td>\n",
       "      <td>14 Aug 2018</td>\n",
       "      <td>Anthony Russo, Joe Russo</td>\n",
       "      <td>NaN</td>\n",
       "      <td>Action, Adventure, Fantasy, Sci-Fi</td>\n",
       "      <td>English</td>\n",
       "      <td>68</td>\n",
       "      <td>...</td>\n",
       "      <td>149 min</td>\n",
       "      <td>Avengers: Infinity War</td>\n",
       "      <td>movie</td>\n",
       "      <td>http://marvel.com/movies/movie/223/avengers_in...</td>\n",
       "      <td>Christopher Markus (screenplay by), Stephen Mc...</td>\n",
       "      <td>2018</td>\n",
       "      <td>tt4154756</td>\n",
       "      <td>8.5</td>\n",
       "      <td>592,755</td>\n",
       "      <td>NaN</td>\n",
       "    </tr>\n",
       "    <tr>\n",
       "      <th>1</th>\n",
       "      <td>Chadwick Boseman, Michael B. Jordan, Lupita Ny...</td>\n",
       "      <td>14 nominations.</td>\n",
       "      <td>$501,105,037</td>\n",
       "      <td>USA</td>\n",
       "      <td>15 May 2018</td>\n",
       "      <td>Ryan Coogler</td>\n",
       "      <td>NaN</td>\n",
       "      <td>Action, Adventure, Sci-Fi</td>\n",
       "      <td>English, Swahili, Nama, Xhosa, Korean</td>\n",
       "      <td>88</td>\n",
       "      <td>...</td>\n",
       "      <td>134 min</td>\n",
       "      <td>Black Panther</td>\n",
       "      <td>movie</td>\n",
       "      <td>https://www.marvel.com/movies/black-panther</td>\n",
       "      <td>Ryan Coogler, Joe Robert Cole, Stan Lee (based...</td>\n",
       "      <td>2018</td>\n",
       "      <td>tt1825683</td>\n",
       "      <td>7.3</td>\n",
       "      <td>469,075</td>\n",
       "      <td>NaN</td>\n",
       "    </tr>\n",
       "    <tr>\n",
       "      <th>2</th>\n",
       "      <td>Chris Pratt, Bryce Dallas Howard, Rafe Spall, ...</td>\n",
       "      <td>N/A</td>\n",
       "      <td>N/A</td>\n",
       "      <td>USA</td>\n",
       "      <td>18 Sep 2018</td>\n",
       "      <td>J.A. Bayona</td>\n",
       "      <td>NaN</td>\n",
       "      <td>Action, Adventure, Sci-Fi</td>\n",
       "      <td>English, Russian</td>\n",
       "      <td>51</td>\n",
       "      <td>...</td>\n",
       "      <td>128 min</td>\n",
       "      <td>Jurassic World: Fallen Kingdom</td>\n",
       "      <td>movie</td>\n",
       "      <td>http://www.jurassicworld.com</td>\n",
       "      <td>Derek Connolly, Colin Trevorrow, Michael Crich...</td>\n",
       "      <td>2018</td>\n",
       "      <td>tt4881806</td>\n",
       "      <td>6.2</td>\n",
       "      <td>202,204</td>\n",
       "      <td>NaN</td>\n",
       "    </tr>\n",
       "    <tr>\n",
       "      <th>3</th>\n",
       "      <td>Craig T. Nelson, Holly Hunter, Sarah Vowell, H...</td>\n",
       "      <td>N/A</td>\n",
       "      <td>N/A</td>\n",
       "      <td>USA</td>\n",
       "      <td>23 Oct 2018</td>\n",
       "      <td>Brad Bird</td>\n",
       "      <td>NaN</td>\n",
       "      <td>Animation, Action, Adventure, Comedy, Family, ...</td>\n",
       "      <td>English</td>\n",
       "      <td>80</td>\n",
       "      <td>...</td>\n",
       "      <td>118 min</td>\n",
       "      <td>Incredibles 2</td>\n",
       "      <td>movie</td>\n",
       "      <td>http://movies.disney.com/the-incredibles-2</td>\n",
       "      <td>Brad Bird</td>\n",
       "      <td>2018</td>\n",
       "      <td>tt3606756</td>\n",
       "      <td>7.7</td>\n",
       "      <td>185,186</td>\n",
       "      <td>NaN</td>\n",
       "    </tr>\n",
       "    <tr>\n",
       "      <th>4</th>\n",
       "      <td>Jason Momoa, Amber Heard, Willem Dafoe, Patric...</td>\n",
       "      <td>N/A</td>\n",
       "      <td>N/A</td>\n",
       "      <td>Australia, USA</td>\n",
       "      <td>N/A</td>\n",
       "      <td>James Wan</td>\n",
       "      <td>NaN</td>\n",
       "      <td>Action, Adventure, Fantasy, Sci-Fi</td>\n",
       "      <td>English</td>\n",
       "      <td>55</td>\n",
       "      <td>...</td>\n",
       "      <td>143 min</td>\n",
       "      <td>Aquaman</td>\n",
       "      <td>movie</td>\n",
       "      <td>http://www.aquamanmovie.com/</td>\n",
       "      <td>David Leslie Johnson-McGoldrick (screenplay by...</td>\n",
       "      <td>2018</td>\n",
       "      <td>tt1477834</td>\n",
       "      <td>7.2</td>\n",
       "      <td>208,461</td>\n",
       "      <td>NaN</td>\n",
       "    </tr>\n",
       "  </tbody>\n",
       "</table>\n",
       "<p>5 rows × 27 columns</p>\n",
       "</div>"
      ],
      "text/plain": [
       "                                              Actors           Awards  \\\n",
       "0  Robert Downey Jr., Chris Hemsworth, Mark Ruffa...              N/A   \n",
       "1  Chadwick Boseman, Michael B. Jordan, Lupita Ny...  14 nominations.   \n",
       "2  Chris Pratt, Bryce Dallas Howard, Rafe Spall, ...              N/A   \n",
       "3  Craig T. Nelson, Holly Hunter, Sarah Vowell, H...              N/A   \n",
       "4  Jason Momoa, Amber Heard, Willem Dafoe, Patric...              N/A   \n",
       "\n",
       "      BoxOffice         Country          DVD                  Director Error  \\\n",
       "0  $664,987,816             USA  14 Aug 2018  Anthony Russo, Joe Russo   NaN   \n",
       "1  $501,105,037             USA  15 May 2018              Ryan Coogler   NaN   \n",
       "2           N/A             USA  18 Sep 2018               J.A. Bayona   NaN   \n",
       "3           N/A             USA  23 Oct 2018                 Brad Bird   NaN   \n",
       "4           N/A  Australia, USA          N/A                 James Wan   NaN   \n",
       "\n",
       "                                               Genre  \\\n",
       "0                 Action, Adventure, Fantasy, Sci-Fi   \n",
       "1                          Action, Adventure, Sci-Fi   \n",
       "2                          Action, Adventure, Sci-Fi   \n",
       "3  Animation, Action, Adventure, Comedy, Family, ...   \n",
       "4                 Action, Adventure, Fantasy, Sci-Fi   \n",
       "\n",
       "                                Language Metascore  ...  Runtime  \\\n",
       "0                                English        68  ...  149 min   \n",
       "1  English, Swahili, Nama, Xhosa, Korean        88  ...  134 min   \n",
       "2                       English, Russian        51  ...  128 min   \n",
       "3                                English        80  ...  118 min   \n",
       "4                                English        55  ...  143 min   \n",
       "\n",
       "                            Title   Type  \\\n",
       "0          Avengers: Infinity War  movie   \n",
       "1                   Black Panther  movie   \n",
       "2  Jurassic World: Fallen Kingdom  movie   \n",
       "3                   Incredibles 2  movie   \n",
       "4                         Aquaman  movie   \n",
       "\n",
       "                                             Website  \\\n",
       "0  http://marvel.com/movies/movie/223/avengers_in...   \n",
       "1        https://www.marvel.com/movies/black-panther   \n",
       "2                       http://www.jurassicworld.com   \n",
       "3         http://movies.disney.com/the-incredibles-2   \n",
       "4                       http://www.aquamanmovie.com/   \n",
       "\n",
       "                                              Writer  Year     imdbID  \\\n",
       "0  Christopher Markus (screenplay by), Stephen Mc...  2018  tt4154756   \n",
       "1  Ryan Coogler, Joe Robert Cole, Stan Lee (based...  2018  tt1825683   \n",
       "2  Derek Connolly, Colin Trevorrow, Michael Crich...  2018  tt4881806   \n",
       "3                                          Brad Bird  2018  tt3606756   \n",
       "4  David Leslie Johnson-McGoldrick (screenplay by...  2018  tt1477834   \n",
       "\n",
       "  imdbRating imdbVotes totalSeasons  \n",
       "0        8.5   592,755          NaN  \n",
       "1        7.3   469,075          NaN  \n",
       "2        6.2   202,204          NaN  \n",
       "3        7.7   185,186          NaN  \n",
       "4        7.2   208,461          NaN  \n",
       "\n",
       "[5 rows x 27 columns]"
      ]
     },
     "execution_count": 20,
     "metadata": {},
     "output_type": "execute_result"
    }
   ],
   "source": [
    "# inspecting new dataframe\n",
    "omdb.head()"
   ]
  },
  {
   "cell_type": "code",
   "execution_count": 4,
   "metadata": {},
   "outputs": [
    {
     "name": "stderr",
     "output_type": "stream",
     "text": [
      "C:\\Users\\dlm66\\Anaconda3\\lib\\site-packages\\pandas\\core\\generic.py:2532: UserWarning: The spaces in these column names will not be changed. In pandas versions < 0.14, spaces were converted to underscores.\n",
      "  dtype=dtype, method=method)\n"
     ]
    }
   ],
   "source": [
    "# sqlite experimenting\n",
    "import sqlite3\n",
    "db = sqlite3.connect('movies.db')\n",
    "c = cdb.cursor()\n",
    "for i in range(len(omdb_pull)):\n",
    "    c.execute('CREATE TABLE OMDB (id INTEGER PRIMARY KEY, title TEXT, year INTEGER, rating TEXT, release_date TEXT, runtime TEXT, genre TEXT, director TEXT, writer TEXT, actors TEXT, plot TEXT, language TEXT, country TEXT, awards TEXT, poster TEXT, ratings TEXT, Metascore INTEGER, imdbRating REAL, imdbVotes  )', (data[i]))"
   ]
  },
  {
   "cell_type": "code",
   "execution_count": null,
   "metadata": {},
   "outputs": [],
   "source": []
  }
 ],
 "metadata": {
  "kernelspec": {
   "display_name": "Python 3",
   "language": "python",
   "name": "python3"
  },
  "language_info": {
   "codemirror_mode": {
    "name": "ipython",
    "version": 3
   },
   "file_extension": ".py",
   "mimetype": "text/x-python",
   "name": "python",
   "nbconvert_exporter": "python",
   "pygments_lexer": "ipython3",
   "version": "3.7.2"
  }
 },
 "nbformat": 4,
 "nbformat_minor": 2
}
