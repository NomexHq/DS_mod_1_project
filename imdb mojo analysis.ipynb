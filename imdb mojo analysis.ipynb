{
 "cells": [
  {
   "cell_type": "code",
   "execution_count": 1,
   "metadata": {},
   "outputs": [],
   "source": [
    "import pandas as pd\n",
    "import seaborn as sns\n",
    "imdb = pd.read_csv('imdb.csv')\n",
    "mojo = pd.read_csv('mojo_movies.csv')"
   ]
  },
  {
   "cell_type": "code",
   "execution_count": 2,
   "metadata": {},
   "outputs": [],
   "source": [
    "imdb = imdb.drop('Unnamed: 0', axis=1)\n",
    "mojo = mojo.drop('Unnamed: 0', axis=1)"
   ]
  },
  {
   "cell_type": "code",
   "execution_count": 3,
   "metadata": {},
   "outputs": [
    {
     "data": {
      "text/html": [
       "<div>\n",
       "<style scoped>\n",
       "    .dataframe tbody tr th:only-of-type {\n",
       "        vertical-align: middle;\n",
       "    }\n",
       "\n",
       "    .dataframe tbody tr th {\n",
       "        vertical-align: top;\n",
       "    }\n",
       "\n",
       "    .dataframe thead th {\n",
       "        text-align: right;\n",
       "    }\n",
       "</style>\n",
       "<table border=\"1\" class=\"dataframe\">\n",
       "  <thead>\n",
       "    <tr style=\"text-align: right;\">\n",
       "      <th></th>\n",
       "      <th>Title</th>\n",
       "      <th>Year</th>\n",
       "      <th>Genre</th>\n",
       "      <th>IMDB_Score</th>\n",
       "      <th>Metascore</th>\n",
       "      <th>Votes</th>\n",
       "      <th>US_Gross</th>\n",
       "    </tr>\n",
       "  </thead>\n",
       "  <tbody>\n",
       "    <tr>\n",
       "      <th>0</th>\n",
       "      <td>Star Wars: Episode VII - The Force Awakens</td>\n",
       "      <td>2015</td>\n",
       "      <td>Action, Adventure, Fantasy</td>\n",
       "      <td>8.0</td>\n",
       "      <td>81</td>\n",
       "      <td>775918</td>\n",
       "      <td>936662225</td>\n",
       "    </tr>\n",
       "    <tr>\n",
       "      <th>1</th>\n",
       "      <td>Avatar</td>\n",
       "      <td>2009</td>\n",
       "      <td>Action, Adventure, Fantasy</td>\n",
       "      <td>7.8</td>\n",
       "      <td>83</td>\n",
       "      <td>1032375</td>\n",
       "      <td>936662225</td>\n",
       "    </tr>\n",
       "    <tr>\n",
       "      <th>2</th>\n",
       "      <td>Black Panther</td>\n",
       "      <td>2018</td>\n",
       "      <td>Action, Adventure, Sci-Fi</td>\n",
       "      <td>7.3</td>\n",
       "      <td>88</td>\n",
       "      <td>484618</td>\n",
       "      <td>936662225</td>\n",
       "    </tr>\n",
       "    <tr>\n",
       "      <th>3</th>\n",
       "      <td>Avengers: Infinity War</td>\n",
       "      <td>2018</td>\n",
       "      <td>Action, Adventure, Sci-Fi</td>\n",
       "      <td>8.5</td>\n",
       "      <td>68</td>\n",
       "      <td>609291</td>\n",
       "      <td>936662225</td>\n",
       "    </tr>\n",
       "    <tr>\n",
       "      <th>4</th>\n",
       "      <td>Jurassic World</td>\n",
       "      <td>2015</td>\n",
       "      <td>Action, Adventure, Sci-Fi</td>\n",
       "      <td>7.0</td>\n",
       "      <td>59</td>\n",
       "      <td>532709</td>\n",
       "      <td>936662225</td>\n",
       "    </tr>\n",
       "  </tbody>\n",
       "</table>\n",
       "</div>"
      ],
      "text/plain": [
       "                                        Title  Year  \\\n",
       "0  Star Wars: Episode VII - The Force Awakens  2015   \n",
       "1                                      Avatar  2009   \n",
       "2                               Black Panther  2018   \n",
       "3                      Avengers: Infinity War  2018   \n",
       "4                              Jurassic World  2015   \n",
       "\n",
       "                        Genre  IMDB_Score Metascore    Votes   US_Gross  \n",
       "0  Action, Adventure, Fantasy         8.0        81   775918  936662225  \n",
       "1  Action, Adventure, Fantasy         7.8        83  1032375  936662225  \n",
       "2   Action, Adventure, Sci-Fi         7.3        88   484618  936662225  \n",
       "3   Action, Adventure, Sci-Fi         8.5        68   609291  936662225  \n",
       "4   Action, Adventure, Sci-Fi         7.0        59   532709  936662225  "
      ]
     },
     "execution_count": 3,
     "metadata": {},
     "output_type": "execute_result"
    }
   ],
   "source": [
    "imdb.head()"
   ]
  },
  {
   "cell_type": "code",
   "execution_count": 4,
   "metadata": {},
   "outputs": [
    {
     "data": {
      "text/plain": [
       "367"
      ]
     },
     "execution_count": 4,
     "metadata": {},
     "output_type": "execute_result"
    }
   ],
   "source": [
    "imdb['Genre'].str.contains('Action').sum()"
   ]
  },
  {
   "cell_type": "code",
   "execution_count": 5,
   "metadata": {},
   "outputs": [
    {
     "data": {
      "text/plain": [
       "348"
      ]
     },
     "execution_count": 5,
     "metadata": {},
     "output_type": "execute_result"
    }
   ],
   "source": [
    "imdb['Genre'].str.contains('Adventure').sum()"
   ]
  },
  {
   "cell_type": "code",
   "execution_count": 6,
   "metadata": {},
   "outputs": [
    {
     "data": {
      "text/plain": [
       "201"
      ]
     },
     "execution_count": 6,
     "metadata": {},
     "output_type": "execute_result"
    }
   ],
   "source": [
    "imdb['Genre'].str.contains('Action, Adventure').sum()"
   ]
  },
  {
   "cell_type": "code",
   "execution_count": 7,
   "metadata": {},
   "outputs": [
    {
     "data": {
      "text/plain": [
       "106"
      ]
     },
     "execution_count": 7,
     "metadata": {},
     "output_type": "execute_result"
    }
   ],
   "source": [
    "imdb['Genre'].str.contains('Fantasy').sum()"
   ]
  },
  {
   "cell_type": "code",
   "execution_count": 8,
   "metadata": {},
   "outputs": [
    {
     "data": {
      "text/plain": [
       "106"
      ]
     },
     "execution_count": 8,
     "metadata": {},
     "output_type": "execute_result"
    }
   ],
   "source": [
    "imdb['Genre'].str.contains('Sci-Fi').sum()"
   ]
  },
  {
   "cell_type": "code",
   "execution_count": 9,
   "metadata": {},
   "outputs": [
    {
     "data": {
      "text/plain": [
       "106"
      ]
     },
     "execution_count": 9,
     "metadata": {},
     "output_type": "execute_result"
    }
   ],
   "source": [
    "imdb['Genre'].str.contains('Fantasy' or 'Sci-Fi').sum()"
   ]
  },
  {
   "cell_type": "code",
   "execution_count": 10,
   "metadata": {},
   "outputs": [
    {
     "data": {
      "text/html": [
       "<div>\n",
       "<style scoped>\n",
       "    .dataframe tbody tr th:only-of-type {\n",
       "        vertical-align: middle;\n",
       "    }\n",
       "\n",
       "    .dataframe tbody tr th {\n",
       "        vertical-align: top;\n",
       "    }\n",
       "\n",
       "    .dataframe thead th {\n",
       "        text-align: right;\n",
       "    }\n",
       "</style>\n",
       "<table border=\"1\" class=\"dataframe\">\n",
       "  <thead>\n",
       "    <tr style=\"text-align: right;\">\n",
       "      <th></th>\n",
       "      <th>Rank</th>\n",
       "      <th>Title</th>\n",
       "      <th>Studio_Abbreviation</th>\n",
       "      <th>Worldwide_Gross</th>\n",
       "      <th>Domestic_Gross</th>\n",
       "      <th>Domestic_Share</th>\n",
       "      <th>Overseas_Gross</th>\n",
       "      <th>Overseas_Share</th>\n",
       "      <th>Year</th>\n",
       "    </tr>\n",
       "  </thead>\n",
       "  <tbody>\n",
       "    <tr>\n",
       "      <th>22</th>\n",
       "      <td>23</td>\n",
       "      <td>Solo: A Star Wars Story</td>\n",
       "      <td>BV</td>\n",
       "      <td>$392.9</td>\n",
       "      <td>$213.8</td>\n",
       "      <td>54.4%</td>\n",
       "      <td>$179.2</td>\n",
       "      <td>45.6%</td>\n",
       "      <td>2018</td>\n",
       "    </tr>\n",
       "    <tr>\n",
       "      <th>302</th>\n",
       "      <td>1</td>\n",
       "      <td>Star Wars: The Last Jedi</td>\n",
       "      <td>BV</td>\n",
       "      <td>$1,332.5</td>\n",
       "      <td>$620.2</td>\n",
       "      <td>46.5%</td>\n",
       "      <td>$712.4</td>\n",
       "      <td>53.5%</td>\n",
       "      <td>2017</td>\n",
       "    </tr>\n",
       "    <tr>\n",
       "      <th>622</th>\n",
       "      <td>2</td>\n",
       "      <td>Rogue One: A Star Wars Story</td>\n",
       "      <td>BV</td>\n",
       "      <td>$1,056.1</td>\n",
       "      <td>$532.2</td>\n",
       "      <td>50.4%</td>\n",
       "      <td>$523.9</td>\n",
       "      <td>49.6%</td>\n",
       "      <td>2016</td>\n",
       "    </tr>\n",
       "    <tr>\n",
       "      <th>1054</th>\n",
       "      <td>1</td>\n",
       "      <td>Star Wars: The Force Awakens</td>\n",
       "      <td>BV</td>\n",
       "      <td>$2,068.2</td>\n",
       "      <td>$936.7</td>\n",
       "      <td>45.3%</td>\n",
       "      <td>$1,131.6</td>\n",
       "      <td>54.7%</td>\n",
       "      <td>2015</td>\n",
       "    </tr>\n",
       "    <tr>\n",
       "      <th>2312</th>\n",
       "      <td>67</td>\n",
       "      <td>Star Wars: Episode I - The Phantom Menace (in 3D)</td>\n",
       "      <td>Fox</td>\n",
       "      <td>$102.7</td>\n",
       "      <td>$43.5</td>\n",
       "      <td>42.3%</td>\n",
       "      <td>$59.3</td>\n",
       "      <td>57.7%</td>\n",
       "      <td>2012</td>\n",
       "    </tr>\n",
       "  </tbody>\n",
       "</table>\n",
       "</div>"
      ],
      "text/plain": [
       "      Rank                                              Title  \\\n",
       "22      23                            Solo: A Star Wars Story   \n",
       "302      1                           Star Wars: The Last Jedi   \n",
       "622      2                       Rogue One: A Star Wars Story   \n",
       "1054     1                       Star Wars: The Force Awakens   \n",
       "2312    67  Star Wars: Episode I - The Phantom Menace (in 3D)   \n",
       "\n",
       "     Studio_Abbreviation Worldwide_Gross Domestic_Gross Domestic_Share  \\\n",
       "22                    BV          $392.9         $213.8          54.4%   \n",
       "302                   BV        $1,332.5         $620.2          46.5%   \n",
       "622                   BV        $1,056.1         $532.2          50.4%   \n",
       "1054                  BV        $2,068.2         $936.7          45.3%   \n",
       "2312                 Fox          $102.7          $43.5          42.3%   \n",
       "\n",
       "     Overseas_Gross Overseas_Share  Year  \n",
       "22           $179.2          45.6%  2018  \n",
       "302          $712.4          53.5%  2017  \n",
       "622          $523.9          49.6%  2016  \n",
       "1054       $1,131.6          54.7%  2015  \n",
       "2312          $59.3          57.7%  2012  "
      ]
     },
     "execution_count": 10,
     "metadata": {},
     "output_type": "execute_result"
    }
   ],
   "source": [
    "mojo[mojo['Title'].str.contains('Star Wars')]"
   ]
  },
  {
   "cell_type": "code",
   "execution_count": 11,
   "metadata": {},
   "outputs": [
    {
     "data": {
      "text/html": [
       "<div>\n",
       "<style scoped>\n",
       "    .dataframe tbody tr th:only-of-type {\n",
       "        vertical-align: middle;\n",
       "    }\n",
       "\n",
       "    .dataframe tbody tr th {\n",
       "        vertical-align: top;\n",
       "    }\n",
       "\n",
       "    .dataframe thead th {\n",
       "        text-align: right;\n",
       "    }\n",
       "</style>\n",
       "<table border=\"1\" class=\"dataframe\">\n",
       "  <thead>\n",
       "    <tr style=\"text-align: right;\">\n",
       "      <th></th>\n",
       "      <th>Title</th>\n",
       "      <th>Year</th>\n",
       "      <th>Genre</th>\n",
       "      <th>IMDB_Score</th>\n",
       "      <th>Metascore</th>\n",
       "      <th>Votes</th>\n",
       "      <th>US_Gross</th>\n",
       "    </tr>\n",
       "  </thead>\n",
       "  <tbody>\n",
       "    <tr>\n",
       "      <th>0</th>\n",
       "      <td>Star Wars: Episode VII - The Force Awakens</td>\n",
       "      <td>2015</td>\n",
       "      <td>Action, Adventure, Fantasy</td>\n",
       "      <td>8.0</td>\n",
       "      <td>81</td>\n",
       "      <td>775918</td>\n",
       "      <td>936662225</td>\n",
       "    </tr>\n",
       "    <tr>\n",
       "      <th>6</th>\n",
       "      <td>Star Wars: Episode VIII - The Last Jedi</td>\n",
       "      <td>2017</td>\n",
       "      <td>Action, Adventure, Fantasy</td>\n",
       "      <td>7.2</td>\n",
       "      <td>85</td>\n",
       "      <td>450825</td>\n",
       "      <td>936662225</td>\n",
       "    </tr>\n",
       "    <tr>\n",
       "      <th>99</th>\n",
       "      <td>Solo: A Star Wars Story</td>\n",
       "      <td>2018</td>\n",
       "      <td>Action, Adventure, Fantasy</td>\n",
       "      <td>7.0</td>\n",
       "      <td>62</td>\n",
       "      <td>213274</td>\n",
       "      <td>936662225</td>\n",
       "    </tr>\n",
       "  </tbody>\n",
       "</table>\n",
       "</div>"
      ],
      "text/plain": [
       "                                         Title  Year  \\\n",
       "0   Star Wars: Episode VII - The Force Awakens  2015   \n",
       "6      Star Wars: Episode VIII - The Last Jedi  2017   \n",
       "99                     Solo: A Star Wars Story  2018   \n",
       "\n",
       "                         Genre  IMDB_Score Metascore   Votes   US_Gross  \n",
       "0   Action, Adventure, Fantasy         8.0        81  775918  936662225  \n",
       "6   Action, Adventure, Fantasy         7.2        85  450825  936662225  \n",
       "99  Action, Adventure, Fantasy         7.0        62  213274  936662225  "
      ]
     },
     "execution_count": 11,
     "metadata": {},
     "output_type": "execute_result"
    }
   ],
   "source": [
    "imdb[imdb['Title'].str.contains('Star Wars')]"
   ]
  },
  {
   "cell_type": "code",
   "execution_count": 12,
   "metadata": {},
   "outputs": [],
   "source": [
    "# updating star wars movie titles to be same for both datasets\n",
    "imdb.at[8, 'Title'] = 'Rogue One: A Star Wars Story'"
   ]
  },
  {
   "cell_type": "code",
   "execution_count": 13,
   "metadata": {},
   "outputs": [],
   "source": [
    "imdb.at[0, 'Title'] = 'Star Wars: The Force Awakens'\n",
    "imdb.at[6, 'Title'] = 'Star Wars: The Last Jedi'\n",
    "mojo.at[2312, 'Title'] = 'Star Wars: The Phantom Menace (in 3D)'"
   ]
  },
  {
   "cell_type": "code",
   "execution_count": 14,
   "metadata": {},
   "outputs": [
    {
     "data": {
      "text/html": [
       "<div>\n",
       "<style scoped>\n",
       "    .dataframe tbody tr th:only-of-type {\n",
       "        vertical-align: middle;\n",
       "    }\n",
       "\n",
       "    .dataframe tbody tr th {\n",
       "        vertical-align: top;\n",
       "    }\n",
       "\n",
       "    .dataframe thead th {\n",
       "        text-align: right;\n",
       "    }\n",
       "</style>\n",
       "<table border=\"1\" class=\"dataframe\">\n",
       "  <thead>\n",
       "    <tr style=\"text-align: right;\">\n",
       "      <th></th>\n",
       "      <th>Title</th>\n",
       "      <th>Year</th>\n",
       "      <th>Genre</th>\n",
       "      <th>IMDB_Score</th>\n",
       "      <th>Metascore</th>\n",
       "      <th>Votes</th>\n",
       "      <th>US_Gross</th>\n",
       "    </tr>\n",
       "  </thead>\n",
       "  <tbody>\n",
       "    <tr>\n",
       "      <th>99</th>\n",
       "      <td>Solo: A Star Wars Story</td>\n",
       "      <td>2018</td>\n",
       "      <td>Action, Adventure, Fantasy</td>\n",
       "      <td>7.0</td>\n",
       "      <td>62</td>\n",
       "      <td>213274</td>\n",
       "      <td>936662225</td>\n",
       "    </tr>\n",
       "    <tr>\n",
       "      <th>867</th>\n",
       "      <td>The Soloist</td>\n",
       "      <td>2009</td>\n",
       "      <td>Biography, Drama, Music</td>\n",
       "      <td>6.7</td>\n",
       "      <td>61</td>\n",
       "      <td>48481</td>\n",
       "      <td>936662225</td>\n",
       "    </tr>\n",
       "  </tbody>\n",
       "</table>\n",
       "</div>"
      ],
      "text/plain": [
       "                       Title  Year                       Genre  IMDB_Score  \\\n",
       "99   Solo: A Star Wars Story  2018  Action, Adventure, Fantasy         7.0   \n",
       "867              The Soloist  2009     Biography, Drama, Music         6.7   \n",
       "\n",
       "    Metascore   Votes   US_Gross  \n",
       "99         62  213274  936662225  \n",
       "867        61   48481  936662225  "
      ]
     },
     "execution_count": 14,
     "metadata": {},
     "output_type": "execute_result"
    }
   ],
   "source": [
    "imdb[imdb['Title'].str.contains('Solo')]"
   ]
  },
  {
   "cell_type": "code",
   "execution_count": 15,
   "metadata": {},
   "outputs": [],
   "source": [
    "# filling missing metascore values\n",
    "imdb.at[822, 'Metascore'] = '31'"
   ]
  },
  {
   "cell_type": "code",
   "execution_count": 16,
   "metadata": {},
   "outputs": [],
   "source": [
    "imdb.at[878, 'Metascore'] = '73'"
   ]
  },
  {
   "cell_type": "code",
   "execution_count": 17,
   "metadata": {},
   "outputs": [
    {
     "data": {
      "text/plain": [
       "NoneType"
      ]
     },
     "execution_count": 17,
     "metadata": {},
     "output_type": "execute_result"
    }
   ],
   "source": [
    "imdb.at[816, 'Metascore'] = None\n",
    "type(imdb.at[816, 'Metascore'])"
   ]
  },
  {
   "cell_type": "code",
   "execution_count": 18,
   "metadata": {},
   "outputs": [],
   "source": [
    "imdb['Metascore'].fillna(imdb['Metascore'].median(), inplace=True)\n"
   ]
  },
  {
   "cell_type": "code",
   "execution_count": 19,
   "metadata": {},
   "outputs": [
    {
     "data": {
      "text/html": [
       "<div>\n",
       "<style scoped>\n",
       "    .dataframe tbody tr th:only-of-type {\n",
       "        vertical-align: middle;\n",
       "    }\n",
       "\n",
       "    .dataframe tbody tr th {\n",
       "        vertical-align: top;\n",
       "    }\n",
       "\n",
       "    .dataframe thead th {\n",
       "        text-align: right;\n",
       "    }\n",
       "</style>\n",
       "<table border=\"1\" class=\"dataframe\">\n",
       "  <thead>\n",
       "    <tr style=\"text-align: right;\">\n",
       "      <th></th>\n",
       "      <th>Title</th>\n",
       "      <th>Year</th>\n",
       "      <th>Genre</th>\n",
       "      <th>IMDB_Score</th>\n",
       "      <th>Metascore</th>\n",
       "      <th>Votes</th>\n",
       "      <th>US_Gross</th>\n",
       "    </tr>\n",
       "  </thead>\n",
       "  <tbody>\n",
       "    <tr>\n",
       "      <th>30</th>\n",
       "      <td>Furious 7</td>\n",
       "      <td>2015</td>\n",
       "      <td>Action, Crime, Thriller</td>\n",
       "      <td>7.2</td>\n",
       "      <td>67</td>\n",
       "      <td>332098</td>\n",
       "      <td>936662225</td>\n",
       "    </tr>\n",
       "    <tr>\n",
       "      <th>77</th>\n",
       "      <td>Furious 6</td>\n",
       "      <td>2013</td>\n",
       "      <td>Action, Crime, Thriller</td>\n",
       "      <td>7.1</td>\n",
       "      <td>61</td>\n",
       "      <td>344006</td>\n",
       "      <td>936662225</td>\n",
       "    </tr>\n",
       "    <tr>\n",
       "      <th>88</th>\n",
       "      <td>The Fate of the Furious</td>\n",
       "      <td>2017</td>\n",
       "      <td>Action, Crime, Thriller</td>\n",
       "      <td>6.7</td>\n",
       "      <td>56</td>\n",
       "      <td>176105</td>\n",
       "      <td>936662225</td>\n",
       "    </tr>\n",
       "    <tr>\n",
       "      <th>174</th>\n",
       "      <td>Fast &amp; Furious</td>\n",
       "      <td>2009</td>\n",
       "      <td>Action, Crime, Thriller</td>\n",
       "      <td>6.6</td>\n",
       "      <td>46</td>\n",
       "      <td>240014</td>\n",
       "      <td>936662225</td>\n",
       "    </tr>\n",
       "  </tbody>\n",
       "</table>\n",
       "</div>"
      ],
      "text/plain": [
       "                       Title  Year                    Genre  IMDB_Score  \\\n",
       "30                 Furious 7  2015  Action, Crime, Thriller         7.2   \n",
       "77                 Furious 6  2013  Action, Crime, Thriller         7.1   \n",
       "88   The Fate of the Furious  2017  Action, Crime, Thriller         6.7   \n",
       "174           Fast & Furious  2009  Action, Crime, Thriller         6.6   \n",
       "\n",
       "    Metascore   Votes   US_Gross  \n",
       "30         67  332098  936662225  \n",
       "77         61  344006  936662225  \n",
       "88         56  176105  936662225  \n",
       "174        46  240014  936662225  "
      ]
     },
     "execution_count": 19,
     "metadata": {},
     "output_type": "execute_result"
    }
   ],
   "source": [
    "imdb[imdb['Title'].str.contains('Furious')]"
   ]
  },
  {
   "cell_type": "code",
   "execution_count": 20,
   "metadata": {},
   "outputs": [
    {
     "data": {
      "text/html": [
       "<div>\n",
       "<style scoped>\n",
       "    .dataframe tbody tr th:only-of-type {\n",
       "        vertical-align: middle;\n",
       "    }\n",
       "\n",
       "    .dataframe tbody tr th {\n",
       "        vertical-align: top;\n",
       "    }\n",
       "\n",
       "    .dataframe thead th {\n",
       "        text-align: right;\n",
       "    }\n",
       "</style>\n",
       "<table border=\"1\" class=\"dataframe\">\n",
       "  <thead>\n",
       "    <tr style=\"text-align: right;\">\n",
       "      <th></th>\n",
       "      <th>Rank</th>\n",
       "      <th>Title</th>\n",
       "      <th>Studio_Abbreviation</th>\n",
       "      <th>Worldwide_Gross</th>\n",
       "      <th>Domestic_Gross</th>\n",
       "      <th>Domestic_Share</th>\n",
       "      <th>Overseas_Gross</th>\n",
       "      <th>Overseas_Share</th>\n",
       "      <th>Year</th>\n",
       "    </tr>\n",
       "  </thead>\n",
       "  <tbody>\n",
       "    <tr>\n",
       "      <th>295</th>\n",
       "      <td>296</td>\n",
       "      <td>Furious (Legend of Kolovrat)</td>\n",
       "      <td>CARUSEL</td>\n",
       "      <td>$10.0k</td>\n",
       "      <td>$10.0k</td>\n",
       "      <td>100.0%</td>\n",
       "      <td>NaN</td>\n",
       "      <td>0.0%</td>\n",
       "      <td>2018</td>\n",
       "    </tr>\n",
       "    <tr>\n",
       "      <th>304</th>\n",
       "      <td>3</td>\n",
       "      <td>The Fate of the Furious</td>\n",
       "      <td>Uni.</td>\n",
       "      <td>$1,236.0</td>\n",
       "      <td>$226.0</td>\n",
       "      <td>18.3%</td>\n",
       "      <td>$1,010.0</td>\n",
       "      <td>81.7%</td>\n",
       "      <td>2017</td>\n",
       "    </tr>\n",
       "    <tr>\n",
       "      <th>1056</th>\n",
       "      <td>3</td>\n",
       "      <td>Furious 7</td>\n",
       "      <td>Uni.</td>\n",
       "      <td>$1,516.0</td>\n",
       "      <td>$353.0</td>\n",
       "      <td>23.3%</td>\n",
       "      <td>$1,163.0</td>\n",
       "      <td>76.7%</td>\n",
       "      <td>2015</td>\n",
       "    </tr>\n",
       "    <tr>\n",
       "      <th>1903</th>\n",
       "      <td>6</td>\n",
       "      <td>Fast &amp; Furious 6</td>\n",
       "      <td>Uni.</td>\n",
       "      <td>$788.7</td>\n",
       "      <td>$238.7</td>\n",
       "      <td>30.3%</td>\n",
       "      <td>$550.0</td>\n",
       "      <td>69.7%</td>\n",
       "      <td>2013</td>\n",
       "    </tr>\n",
       "    <tr>\n",
       "      <th>3388</th>\n",
       "      <td>17</td>\n",
       "      <td>Fast and Furious</td>\n",
       "      <td>Uni.</td>\n",
       "      <td>$363.2</td>\n",
       "      <td>$155.1</td>\n",
       "      <td>42.7%</td>\n",
       "      <td>$208.1</td>\n",
       "      <td>57.3%</td>\n",
       "      <td>2009</td>\n",
       "    </tr>\n",
       "  </tbody>\n",
       "</table>\n",
       "</div>"
      ],
      "text/plain": [
       "      Rank                         Title Studio_Abbreviation Worldwide_Gross  \\\n",
       "295    296  Furious (Legend of Kolovrat)             CARUSEL          $10.0k   \n",
       "304      3       The Fate of the Furious                Uni.        $1,236.0   \n",
       "1056     3                     Furious 7                Uni.        $1,516.0   \n",
       "1903     6              Fast & Furious 6                Uni.          $788.7   \n",
       "3388    17              Fast and Furious                Uni.          $363.2   \n",
       "\n",
       "     Domestic_Gross Domestic_Share Overseas_Gross Overseas_Share  Year  \n",
       "295          $10.0k         100.0%            NaN           0.0%  2018  \n",
       "304          $226.0          18.3%       $1,010.0          81.7%  2017  \n",
       "1056         $353.0          23.3%       $1,163.0          76.7%  2015  \n",
       "1903         $238.7          30.3%         $550.0          69.7%  2013  \n",
       "3388         $155.1          42.7%         $208.1          57.3%  2009  "
      ]
     },
     "execution_count": 20,
     "metadata": {},
     "output_type": "execute_result"
    }
   ],
   "source": [
    "mojo[mojo['Title'].str.contains('Furious')]"
   ]
  },
  {
   "cell_type": "code",
   "execution_count": 21,
   "metadata": {},
   "outputs": [],
   "source": [
    "#replacing all occurences of 'and' with '&'\n",
    "mojo['Title'] = mojo['Title'].str.replace('and', '&')"
   ]
  },
  {
   "cell_type": "code",
   "execution_count": 22,
   "metadata": {},
   "outputs": [],
   "source": [
    "imdb['Title'] = imdb['Title'].str.replace('and', '&')"
   ]
  },
  {
   "cell_type": "code",
   "execution_count": 23,
   "metadata": {},
   "outputs": [
    {
     "data": {
      "text/html": [
       "<div>\n",
       "<style scoped>\n",
       "    .dataframe tbody tr th:only-of-type {\n",
       "        vertical-align: middle;\n",
       "    }\n",
       "\n",
       "    .dataframe tbody tr th {\n",
       "        vertical-align: top;\n",
       "    }\n",
       "\n",
       "    .dataframe thead th {\n",
       "        text-align: right;\n",
       "    }\n",
       "</style>\n",
       "<table border=\"1\" class=\"dataframe\">\n",
       "  <thead>\n",
       "    <tr style=\"text-align: right;\">\n",
       "      <th></th>\n",
       "      <th>Rank</th>\n",
       "      <th>Title</th>\n",
       "      <th>Studio_Abbreviation</th>\n",
       "      <th>Worldwide_Gross</th>\n",
       "      <th>Domestic_Gross</th>\n",
       "      <th>Domestic_Share</th>\n",
       "      <th>Overseas_Gross</th>\n",
       "      <th>Overseas_Share</th>\n",
       "      <th>Year</th>\n",
       "    </tr>\n",
       "  </thead>\n",
       "  <tbody>\n",
       "  </tbody>\n",
       "</table>\n",
       "</div>"
      ],
      "text/plain": [
       "Empty DataFrame\n",
       "Columns: [Rank, Title, Studio_Abbreviation, Worldwide_Gross, Domestic_Gross, Domestic_Share, Overseas_Gross, Overseas_Share, Year]\n",
       "Index: []"
      ]
     },
     "execution_count": 23,
     "metadata": {},
     "output_type": "execute_result"
    }
   ],
   "source": [
    "mojo[mojo['Title'].str.contains('and')]"
   ]
  },
  {
   "cell_type": "code",
   "execution_count": 24,
   "metadata": {},
   "outputs": [
    {
     "data": {
      "text/html": [
       "<div>\n",
       "<style scoped>\n",
       "    .dataframe tbody tr th:only-of-type {\n",
       "        vertical-align: middle;\n",
       "    }\n",
       "\n",
       "    .dataframe tbody tr th {\n",
       "        vertical-align: top;\n",
       "    }\n",
       "\n",
       "    .dataframe thead th {\n",
       "        text-align: right;\n",
       "    }\n",
       "</style>\n",
       "<table border=\"1\" class=\"dataframe\">\n",
       "  <thead>\n",
       "    <tr style=\"text-align: right;\">\n",
       "      <th></th>\n",
       "      <th>Title</th>\n",
       "      <th>Year</th>\n",
       "      <th>Genre</th>\n",
       "      <th>IMDB_Score</th>\n",
       "      <th>Metascore</th>\n",
       "      <th>Votes</th>\n",
       "      <th>US_Gross</th>\n",
       "    </tr>\n",
       "  </thead>\n",
       "  <tbody>\n",
       "  </tbody>\n",
       "</table>\n",
       "</div>"
      ],
      "text/plain": [
       "Empty DataFrame\n",
       "Columns: [Title, Year, Genre, IMDB_Score, Metascore, Votes, US_Gross]\n",
       "Index: []"
      ]
     },
     "execution_count": 24,
     "metadata": {},
     "output_type": "execute_result"
    }
   ],
   "source": [
    "imdb[imdb['Title'].str.contains('and')]"
   ]
  },
  {
   "cell_type": "code",
   "execution_count": 25,
   "metadata": {},
   "outputs": [],
   "source": [
    "# joining dataframes\n",
    "movie_merge = mojo.merge(imdb, on=['Title'], how='inner')"
   ]
  },
  {
   "cell_type": "code",
   "execution_count": 26,
   "metadata": {},
   "outputs": [
    {
     "data": {
      "text/html": [
       "<div>\n",
       "<style scoped>\n",
       "    .dataframe tbody tr th:only-of-type {\n",
       "        vertical-align: middle;\n",
       "    }\n",
       "\n",
       "    .dataframe tbody tr th {\n",
       "        vertical-align: top;\n",
       "    }\n",
       "\n",
       "    .dataframe thead th {\n",
       "        text-align: right;\n",
       "    }\n",
       "</style>\n",
       "<table border=\"1\" class=\"dataframe\">\n",
       "  <thead>\n",
       "    <tr style=\"text-align: right;\">\n",
       "      <th></th>\n",
       "      <th>Rank</th>\n",
       "      <th>Title</th>\n",
       "      <th>Studio_Abbreviation</th>\n",
       "      <th>Worldwide_Gross</th>\n",
       "      <th>Domestic_Gross</th>\n",
       "      <th>Domestic_Share</th>\n",
       "      <th>Overseas_Gross</th>\n",
       "      <th>Overseas_Share</th>\n",
       "      <th>Year_x</th>\n",
       "      <th>Year_y</th>\n",
       "      <th>Genre</th>\n",
       "      <th>IMDB_Score</th>\n",
       "      <th>Metascore</th>\n",
       "      <th>Votes</th>\n",
       "      <th>US_Gross</th>\n",
       "    </tr>\n",
       "  </thead>\n",
       "  <tbody>\n",
       "    <tr>\n",
       "      <th>0</th>\n",
       "      <td>1</td>\n",
       "      <td>Avengers: Infinity War</td>\n",
       "      <td>BV</td>\n",
       "      <td>$2,048.4</td>\n",
       "      <td>$678.8</td>\n",
       "      <td>33.1%</td>\n",
       "      <td>$1,369.5</td>\n",
       "      <td>66.9%</td>\n",
       "      <td>2018</td>\n",
       "      <td>2018</td>\n",
       "      <td>Action, Adventure, Sci-Fi</td>\n",
       "      <td>8.5</td>\n",
       "      <td>68</td>\n",
       "      <td>609291</td>\n",
       "      <td>936662225</td>\n",
       "    </tr>\n",
       "    <tr>\n",
       "      <th>1</th>\n",
       "      <td>2</td>\n",
       "      <td>Black Panther</td>\n",
       "      <td>BV</td>\n",
       "      <td>$1,346.9</td>\n",
       "      <td>$700.1</td>\n",
       "      <td>52.0%</td>\n",
       "      <td>$646.9</td>\n",
       "      <td>48.0%</td>\n",
       "      <td>2018</td>\n",
       "      <td>2018</td>\n",
       "      <td>Action, Adventure, Sci-Fi</td>\n",
       "      <td>7.3</td>\n",
       "      <td>88</td>\n",
       "      <td>484618</td>\n",
       "      <td>936662225</td>\n",
       "    </tr>\n",
       "    <tr>\n",
       "      <th>2</th>\n",
       "      <td>3</td>\n",
       "      <td>Jurassic World: Fallen Kingdom</td>\n",
       "      <td>Uni.</td>\n",
       "      <td>$1,309.5</td>\n",
       "      <td>$417.7</td>\n",
       "      <td>31.9%</td>\n",
       "      <td>$891.8</td>\n",
       "      <td>68.1%</td>\n",
       "      <td>2018</td>\n",
       "      <td>2018</td>\n",
       "      <td>Action, Adventure, Sci-Fi</td>\n",
       "      <td>6.2</td>\n",
       "      <td>51</td>\n",
       "      <td>206471</td>\n",
       "      <td>936662225</td>\n",
       "    </tr>\n",
       "    <tr>\n",
       "      <th>3</th>\n",
       "      <td>4</td>\n",
       "      <td>Incredibles 2</td>\n",
       "      <td>BV</td>\n",
       "      <td>$1,242.8</td>\n",
       "      <td>$608.6</td>\n",
       "      <td>49.0%</td>\n",
       "      <td>$634.2</td>\n",
       "      <td>51.0%</td>\n",
       "      <td>2018</td>\n",
       "      <td>2018</td>\n",
       "      <td>Animation, Action, Adventure</td>\n",
       "      <td>7.7</td>\n",
       "      <td>80</td>\n",
       "      <td>189268</td>\n",
       "      <td>936662225</td>\n",
       "    </tr>\n",
       "    <tr>\n",
       "      <th>4</th>\n",
       "      <td>5</td>\n",
       "      <td>Aquaman</td>\n",
       "      <td>WB</td>\n",
       "      <td>$1,146.9</td>\n",
       "      <td>$334.8</td>\n",
       "      <td>29.2%</td>\n",
       "      <td>$812.1</td>\n",
       "      <td>70.8%</td>\n",
       "      <td>2018</td>\n",
       "      <td>2018</td>\n",
       "      <td>Action, Adventure, Fantasy</td>\n",
       "      <td>7.2</td>\n",
       "      <td>55</td>\n",
       "      <td>210821</td>\n",
       "      <td>936662225</td>\n",
       "    </tr>\n",
       "  </tbody>\n",
       "</table>\n",
       "</div>"
      ],
      "text/plain": [
       "   Rank                           Title Studio_Abbreviation Worldwide_Gross  \\\n",
       "0     1          Avengers: Infinity War                  BV        $2,048.4   \n",
       "1     2                   Black Panther                  BV        $1,346.9   \n",
       "2     3  Jurassic World: Fallen Kingdom                Uni.        $1,309.5   \n",
       "3     4                   Incredibles 2                  BV        $1,242.8   \n",
       "4     5                         Aquaman                  WB        $1,146.9   \n",
       "\n",
       "  Domestic_Gross Domestic_Share Overseas_Gross Overseas_Share  Year_x  Year_y  \\\n",
       "0         $678.8          33.1%       $1,369.5          66.9%    2018    2018   \n",
       "1         $700.1          52.0%         $646.9          48.0%    2018    2018   \n",
       "2         $417.7          31.9%         $891.8          68.1%    2018    2018   \n",
       "3         $608.6          49.0%         $634.2          51.0%    2018    2018   \n",
       "4         $334.8          29.2%         $812.1          70.8%    2018    2018   \n",
       "\n",
       "                          Genre  IMDB_Score Metascore   Votes   US_Gross  \n",
       "0     Action, Adventure, Sci-Fi         8.5        68  609291  936662225  \n",
       "1     Action, Adventure, Sci-Fi         7.3        88  484618  936662225  \n",
       "2     Action, Adventure, Sci-Fi         6.2        51  206471  936662225  \n",
       "3  Animation, Action, Adventure         7.7        80  189268  936662225  \n",
       "4    Action, Adventure, Fantasy         7.2        55  210821  936662225  "
      ]
     },
     "execution_count": 26,
     "metadata": {},
     "output_type": "execute_result"
    }
   ],
   "source": [
    "movie_merge.head()"
   ]
  },
  {
   "cell_type": "code",
   "execution_count": 27,
   "metadata": {},
   "outputs": [],
   "source": [
    "# changing numeric string values to floats and ints\n",
    "movie_merge['Metascore'] = movie_merge['Metascore'].apply(int)"
   ]
  },
  {
   "cell_type": "code",
   "execution_count": 28,
   "metadata": {},
   "outputs": [],
   "source": [
    "movie_merge['Worldwide_Gross'] = movie_merge['Worldwide_Gross'].str.strip('$k').str.replace(',', '').apply(float)"
   ]
  },
  {
   "cell_type": "code",
   "execution_count": 29,
   "metadata": {},
   "outputs": [],
   "source": [
    "movie_merge['Domestic_Gross'] = movie_merge['Domestic_Gross'].str.strip('$k').str.replace(',', '').apply(float)"
   ]
  },
  {
   "cell_type": "code",
   "execution_count": 30,
   "metadata": {},
   "outputs": [],
   "source": [
    "movie_merge['Overseas_Gross'] = movie_merge['Overseas_Gross'].str.strip('$k').str.replace(',', '').apply(float)"
   ]
  },
  {
   "cell_type": "code",
   "execution_count": 31,
   "metadata": {},
   "outputs": [],
   "source": [
    "movie_merge['Domestic_Share'] = movie_merge['Domestic_Share'].str.strip('%').apply(float)"
   ]
  },
  {
   "cell_type": "code",
   "execution_count": 32,
   "metadata": {},
   "outputs": [],
   "source": [
    "movie_merge['Overseas_Share'] = movie_merge['Overseas_Share'].str.strip('%').apply(float)"
   ]
  },
  {
   "cell_type": "code",
   "execution_count": 33,
   "metadata": {},
   "outputs": [],
   "source": [
    "# dropping useless columns\n",
    "movie_merge = movie_merge.drop('US_Gross', axis=1)\n",
    "movie_merge = movie_merge.drop(['Rank'], axis=1)\n",
    "movie_merge = movie_merge.drop(['Year_y'], axis=1)"
   ]
  },
  {
   "cell_type": "code",
   "execution_count": 35,
   "metadata": {},
   "outputs": [],
   "source": [
    "# data cleaned and formatted!!!\n",
    "movie_merge.describe()\n",
    "movie_merge.to_csv('movie_merge.csv')"
   ]
  },
  {
   "cell_type": "code",
   "execution_count": 36,
   "metadata": {
    "scrolled": true
   },
   "outputs": [
    {
     "data": {
      "text/html": [
       "<div>\n",
       "<style scoped>\n",
       "    .dataframe tbody tr th:only-of-type {\n",
       "        vertical-align: middle;\n",
       "    }\n",
       "\n",
       "    .dataframe tbody tr th {\n",
       "        vertical-align: top;\n",
       "    }\n",
       "\n",
       "    .dataframe thead th {\n",
       "        text-align: right;\n",
       "    }\n",
       "</style>\n",
       "<table border=\"1\" class=\"dataframe\">\n",
       "  <thead>\n",
       "    <tr style=\"text-align: right;\">\n",
       "      <th></th>\n",
       "      <th>Title</th>\n",
       "      <th>Studio_Abbreviation</th>\n",
       "      <th>Worldwide_Gross</th>\n",
       "      <th>Domestic_Gross</th>\n",
       "      <th>Domestic_Share</th>\n",
       "      <th>Overseas_Gross</th>\n",
       "      <th>Overseas_Share</th>\n",
       "      <th>Year_x</th>\n",
       "      <th>Genre</th>\n",
       "      <th>IMDB_Score</th>\n",
       "      <th>Metascore</th>\n",
       "      <th>Votes</th>\n",
       "    </tr>\n",
       "  </thead>\n",
       "  <tbody>\n",
       "    <tr>\n",
       "      <th>60</th>\n",
       "      <td>Book Club</td>\n",
       "      <td>Par.</td>\n",
       "      <td>68.6</td>\n",
       "      <td>68.6</td>\n",
       "      <td>100.0</td>\n",
       "      <td>NaN</td>\n",
       "      <td>0.0</td>\n",
       "      <td>2018</td>\n",
       "      <td>Comedy, Drama, Romance</td>\n",
       "      <td>6.1</td>\n",
       "      <td>53</td>\n",
       "      <td>17004</td>\n",
       "    </tr>\n",
       "    <tr>\n",
       "      <th>75</th>\n",
       "      <td>Winchester</td>\n",
       "      <td>LGF</td>\n",
       "      <td>25.1</td>\n",
       "      <td>25.1</td>\n",
       "      <td>100.0</td>\n",
       "      <td>NaN</td>\n",
       "      <td>0.0</td>\n",
       "      <td>2018</td>\n",
       "      <td>Biography, Drama, Fantasy</td>\n",
       "      <td>5.4</td>\n",
       "      <td>28</td>\n",
       "      <td>23141</td>\n",
       "    </tr>\n",
       "    <tr>\n",
       "      <th>147</th>\n",
       "      <td>All Eyez on Me</td>\n",
       "      <td>LG/S</td>\n",
       "      <td>44.9</td>\n",
       "      <td>44.9</td>\n",
       "      <td>100.0</td>\n",
       "      <td>NaN</td>\n",
       "      <td>0.0</td>\n",
       "      <td>2017</td>\n",
       "      <td>Biography, Drama, Music</td>\n",
       "      <td>5.8</td>\n",
       "      <td>38</td>\n",
       "      <td>18155</td>\n",
       "    </tr>\n",
       "    <tr>\n",
       "      <th>148</th>\n",
       "      <td>47 Meters Down</td>\n",
       "      <td>ENTMP</td>\n",
       "      <td>44.3</td>\n",
       "      <td>44.3</td>\n",
       "      <td>100.0</td>\n",
       "      <td>NaN</td>\n",
       "      <td>0.0</td>\n",
       "      <td>2017</td>\n",
       "      <td>Adventure, Drama, Horror</td>\n",
       "      <td>5.6</td>\n",
       "      <td>52</td>\n",
       "      <td>37900</td>\n",
       "    </tr>\n",
       "    <tr>\n",
       "      <th>152</th>\n",
       "      <td>Wind River</td>\n",
       "      <td>Wein.</td>\n",
       "      <td>33.8</td>\n",
       "      <td>33.8</td>\n",
       "      <td>100.0</td>\n",
       "      <td>NaN</td>\n",
       "      <td>0.0</td>\n",
       "      <td>2017</td>\n",
       "      <td>Crime, Drama, Mystery</td>\n",
       "      <td>7.7</td>\n",
       "      <td>73</td>\n",
       "      <td>164033</td>\n",
       "    </tr>\n",
       "    <tr>\n",
       "      <th>153</th>\n",
       "      <td>Hostiles</td>\n",
       "      <td>ENTMP</td>\n",
       "      <td>29.8</td>\n",
       "      <td>29.8</td>\n",
       "      <td>100.0</td>\n",
       "      <td>NaN</td>\n",
       "      <td>0.0</td>\n",
       "      <td>2017</td>\n",
       "      <td>Adventure, Drama, Western</td>\n",
       "      <td>7.2</td>\n",
       "      <td>65</td>\n",
       "      <td>50533</td>\n",
       "    </tr>\n",
       "    <tr>\n",
       "      <th>154</th>\n",
       "      <td>Home Again</td>\n",
       "      <td>ORF</td>\n",
       "      <td>27.0</td>\n",
       "      <td>27.0</td>\n",
       "      <td>100.0</td>\n",
       "      <td>NaN</td>\n",
       "      <td>0.0</td>\n",
       "      <td>2017</td>\n",
       "      <td>Comedy, Drama, Romance</td>\n",
       "      <td>5.8</td>\n",
       "      <td>41</td>\n",
       "      <td>21970</td>\n",
       "    </tr>\n",
       "    <tr>\n",
       "      <th>300</th>\n",
       "      <td>War Room</td>\n",
       "      <td>TriS</td>\n",
       "      <td>67.8</td>\n",
       "      <td>67.8</td>\n",
       "      <td>100.0</td>\n",
       "      <td>NaN</td>\n",
       "      <td>0.0</td>\n",
       "      <td>2015</td>\n",
       "      <td>Drama</td>\n",
       "      <td>6.4</td>\n",
       "      <td>26</td>\n",
       "      <td>11537</td>\n",
       "    </tr>\n",
       "    <tr>\n",
       "      <th>400</th>\n",
       "      <td>When the Game St&amp;s Tall</td>\n",
       "      <td>TriS</td>\n",
       "      <td>30.1</td>\n",
       "      <td>30.1</td>\n",
       "      <td>100.0</td>\n",
       "      <td>NaN</td>\n",
       "      <td>0.0</td>\n",
       "      <td>2014</td>\n",
       "      <td>Drama, Family, Sport</td>\n",
       "      <td>6.7</td>\n",
       "      <td>41</td>\n",
       "      <td>14407</td>\n",
       "    </tr>\n",
       "    <tr>\n",
       "      <th>479</th>\n",
       "      <td>Snitch</td>\n",
       "      <td>LG/S</td>\n",
       "      <td>42.9</td>\n",
       "      <td>42.9</td>\n",
       "      <td>100.0</td>\n",
       "      <td>NaN</td>\n",
       "      <td>0.0</td>\n",
       "      <td>2013</td>\n",
       "      <td>Action, Drama, Thriller</td>\n",
       "      <td>6.5</td>\n",
       "      <td>51</td>\n",
       "      <td>77444</td>\n",
       "    </tr>\n",
       "    <tr>\n",
       "      <th>658</th>\n",
       "      <td>Courageous</td>\n",
       "      <td>TriS</td>\n",
       "      <td>34.5</td>\n",
       "      <td>34.5</td>\n",
       "      <td>100.0</td>\n",
       "      <td>NaN</td>\n",
       "      <td>0.0</td>\n",
       "      <td>2011</td>\n",
       "      <td>Drama</td>\n",
       "      <td>7.1</td>\n",
       "      <td>42</td>\n",
       "      <td>17413</td>\n",
       "    </tr>\n",
       "    <tr>\n",
       "      <th>659</th>\n",
       "      <td>Our Idiot Brother</td>\n",
       "      <td>Wein.</td>\n",
       "      <td>24.8</td>\n",
       "      <td>24.8</td>\n",
       "      <td>100.0</td>\n",
       "      <td>NaN</td>\n",
       "      <td>0.0</td>\n",
       "      <td>2011</td>\n",
       "      <td>Comedy, Drama</td>\n",
       "      <td>6.4</td>\n",
       "      <td>60</td>\n",
       "      <td>80376</td>\n",
       "    </tr>\n",
       "  </tbody>\n",
       "</table>\n",
       "</div>"
      ],
      "text/plain": [
       "                       Title Studio_Abbreviation  Worldwide_Gross  \\\n",
       "60                 Book Club                Par.             68.6   \n",
       "75                Winchester                 LGF             25.1   \n",
       "147           All Eyez on Me                LG/S             44.9   \n",
       "148           47 Meters Down               ENTMP             44.3   \n",
       "152               Wind River               Wein.             33.8   \n",
       "153                 Hostiles               ENTMP             29.8   \n",
       "154               Home Again                 ORF             27.0   \n",
       "300                 War Room                TriS             67.8   \n",
       "400  When the Game St&s Tall                TriS             30.1   \n",
       "479                   Snitch                LG/S             42.9   \n",
       "658               Courageous                TriS             34.5   \n",
       "659        Our Idiot Brother               Wein.             24.8   \n",
       "\n",
       "     Domestic_Gross  Domestic_Share  Overseas_Gross  Overseas_Share  Year_x  \\\n",
       "60             68.6           100.0             NaN             0.0    2018   \n",
       "75             25.1           100.0             NaN             0.0    2018   \n",
       "147            44.9           100.0             NaN             0.0    2017   \n",
       "148            44.3           100.0             NaN             0.0    2017   \n",
       "152            33.8           100.0             NaN             0.0    2017   \n",
       "153            29.8           100.0             NaN             0.0    2017   \n",
       "154            27.0           100.0             NaN             0.0    2017   \n",
       "300            67.8           100.0             NaN             0.0    2015   \n",
       "400            30.1           100.0             NaN             0.0    2014   \n",
       "479            42.9           100.0             NaN             0.0    2013   \n",
       "658            34.5           100.0             NaN             0.0    2011   \n",
       "659            24.8           100.0             NaN             0.0    2011   \n",
       "\n",
       "                         Genre  IMDB_Score  Metascore   Votes  \n",
       "60      Comedy, Drama, Romance         6.1         53   17004  \n",
       "75   Biography, Drama, Fantasy         5.4         28   23141  \n",
       "147    Biography, Drama, Music         5.8         38   18155  \n",
       "148   Adventure, Drama, Horror         5.6         52   37900  \n",
       "152      Crime, Drama, Mystery         7.7         73  164033  \n",
       "153  Adventure, Drama, Western         7.2         65   50533  \n",
       "154     Comedy, Drama, Romance         5.8         41   21970  \n",
       "300                      Drama         6.4         26   11537  \n",
       "400       Drama, Family, Sport         6.7         41   14407  \n",
       "479    Action, Drama, Thriller         6.5         51   77444  \n",
       "658                      Drama         7.1         42   17413  \n",
       "659              Comedy, Drama         6.4         60   80376  "
      ]
     },
     "execution_count": 36,
     "metadata": {},
     "output_type": "execute_result"
    }
   ],
   "source": [
    "# examining missing values from overseas gross. suspect these were only released domestically\n",
    "movie_merge[movie_merge['Overseas_Gross'].isnull()]"
   ]
  },
  {
   "cell_type": "code",
   "execution_count": 37,
   "metadata": {},
   "outputs": [
    {
     "data": {
      "text/plain": [
       "<matplotlib.axes._subplots.AxesSubplot at 0x2403c636d30>"
      ]
     },
     "execution_count": 37,
     "metadata": {},
     "output_type": "execute_result"
    },
    {
     "data": {
      "image/png": "[encoded data removed]",
      "text/plain": [
       "<Figure size 432x288 with 1 Axes>"
      ]
     },
     "metadata": {
      "needs_background": "light"
     },
     "output_type": "display_data"
    }
   ],
   "source": [
    "#comparing number of votes and box office performance\n",
    "sns.regplot(x=movie_merge['Worldwide_Gross'], y=movie_merge['Votes'], scatter=True)"
   ]
  },
  {
   "cell_type": "code",
   "execution_count": 38,
   "metadata": {},
   "outputs": [
    {
     "data": {
      "text/plain": [
       "<matplotlib.axes._subplots.AxesSubplot at 0x2403c982320>"
      ]
     },
     "execution_count": 38,
     "metadata": {},
     "output_type": "execute_result"
    },
    {
     "data": {
      "image/png": "[encoded data removed]",
      "text/plain": [
       "<Figure size 432x288 with 1 Axes>"
      ]
     },
     "metadata": {
      "needs_background": "light"
     },
     "output_type": "display_data"
    }
   ],
   "source": [
    "sns.regplot(x=movie_merge['Domestic_Gross'], y=movie_merge['Votes'], scatter=True)"
   ]
  },
  {
   "cell_type": "code",
   "execution_count": 39,
   "metadata": {},
   "outputs": [
    {
     "data": {
      "text/plain": [
       "<matplotlib.axes._subplots.AxesSubplot at 0x2403c9e6dd8>"
      ]
     },
     "execution_count": 39,
     "metadata": {},
     "output_type": "execute_result"
    },
    {
     "data": {
      "image/png": "[encoded data removed]",
      "text/plain": [
       "<Figure size 432x288 with 1 Axes>"
      ]
     },
     "metadata": {
      "needs_background": "light"
     },
     "output_type": "display_data"
    }
   ],
   "source": [
    "sns.regplot(x=movie_merge['Domestic_Share'], y=movie_merge['IMDB_Score'], scatter=True)"
   ]
  },
  {
   "cell_type": "code",
   "execution_count": 40,
   "metadata": {},
   "outputs": [
    {
     "data": {
      "text/plain": [
       "<matplotlib.axes._subplots.AxesSubplot at 0x2403ca511d0>"
      ]
     },
     "execution_count": 40,
     "metadata": {},
     "output_type": "execute_result"
    },
    {
     "data": {
      "image/png": "[encoded data removed]",
      "text/plain": [
       "<Figure size 432x288 with 1 Axes>"
      ]
     },
     "metadata": {
      "needs_background": "light"
     },
     "output_type": "display_data"
    }
   ],
   "source": [
    "sns.regplot(x=movie_merge['Worldwide_Gross'], y=movie_merge['IMDB_Score'], scatter=True)"
   ]
  },
  {
   "cell_type": "code",
   "execution_count": 62,
   "metadata": {},
   "outputs": [],
   "source": [
    "from wordcloud import WordCloud, STOPWORDS, ImageColorGenerator\n",
    "import matplotlib.pyplot as plt\n",
    "%matplotlib inline"
   ]
  },
  {
   "cell_type": "code",
   "execution_count": 53,
   "metadata": {},
   "outputs": [],
   "source": [
    "genres = movie_merge['Genre'].str.split(pat=',', expand=True)\n",
    "movie_merge['Subgenre1'] = genres[0]\n",
    "movie_merge['Subgrene2'] = genres[1]\n",
    "movie_merge['Subgrene3'] = genres[2]\n",
    "movie_merge.to_csv('movie_merge.csv')"
   ]
  },
  {
   "cell_type": "code",
   "execution_count": 52,
   "metadata": {},
   "outputs": [
    {
     "data": {
      "text/html": [
       "<div>\n",
       "<style scoped>\n",
       "    .dataframe tbody tr th:only-of-type {\n",
       "        vertical-align: middle;\n",
       "    }\n",
       "\n",
       "    .dataframe tbody tr th {\n",
       "        vertical-align: top;\n",
       "    }\n",
       "\n",
       "    .dataframe thead th {\n",
       "        text-align: right;\n",
       "    }\n",
       "</style>\n",
       "<table border=\"1\" class=\"dataframe\">\n",
       "  <thead>\n",
       "    <tr style=\"text-align: right;\">\n",
       "      <th></th>\n",
       "      <th>Title</th>\n",
       "      <th>Studio_Abbreviation</th>\n",
       "      <th>Worldwide_Gross</th>\n",
       "      <th>Domestic_Gross</th>\n",
       "      <th>Domestic_Share</th>\n",
       "      <th>Overseas_Gross</th>\n",
       "      <th>Overseas_Share</th>\n",
       "      <th>Year_x</th>\n",
       "      <th>Genre</th>\n",
       "      <th>IMDB_Score</th>\n",
       "      <th>Metascore</th>\n",
       "      <th>Votes</th>\n",
       "      <th>Subgenre1</th>\n",
       "      <th>Subgrene2</th>\n",
       "      <th>Subgrene3</th>\n",
       "    </tr>\n",
       "  </thead>\n",
       "  <tbody>\n",
       "    <tr>\n",
       "      <th>0</th>\n",
       "      <td>Avengers: Infinity War</td>\n",
       "      <td>BV</td>\n",
       "      <td>2048.4</td>\n",
       "      <td>678.8</td>\n",
       "      <td>33.1</td>\n",
       "      <td>1369.5</td>\n",
       "      <td>66.9</td>\n",
       "      <td>2018</td>\n",
       "      <td>Action, Adventure, Sci-Fi</td>\n",
       "      <td>8.5</td>\n",
       "      <td>68</td>\n",
       "      <td>609291</td>\n",
       "      <td>Action</td>\n",
       "      <td>Adventure</td>\n",
       "      <td>Sci-Fi</td>\n",
       "    </tr>\n",
       "    <tr>\n",
       "      <th>1</th>\n",
       "      <td>Black Panther</td>\n",
       "      <td>BV</td>\n",
       "      <td>1346.9</td>\n",
       "      <td>700.1</td>\n",
       "      <td>52.0</td>\n",
       "      <td>646.9</td>\n",
       "      <td>48.0</td>\n",
       "      <td>2018</td>\n",
       "      <td>Action, Adventure, Sci-Fi</td>\n",
       "      <td>7.3</td>\n",
       "      <td>88</td>\n",
       "      <td>484618</td>\n",
       "      <td>Action</td>\n",
       "      <td>Adventure</td>\n",
       "      <td>Sci-Fi</td>\n",
       "    </tr>\n",
       "    <tr>\n",
       "      <th>2</th>\n",
       "      <td>Jurassic World: Fallen Kingdom</td>\n",
       "      <td>Uni.</td>\n",
       "      <td>1309.5</td>\n",
       "      <td>417.7</td>\n",
       "      <td>31.9</td>\n",
       "      <td>891.8</td>\n",
       "      <td>68.1</td>\n",
       "      <td>2018</td>\n",
       "      <td>Action, Adventure, Sci-Fi</td>\n",
       "      <td>6.2</td>\n",
       "      <td>51</td>\n",
       "      <td>206471</td>\n",
       "      <td>Action</td>\n",
       "      <td>Adventure</td>\n",
       "      <td>Sci-Fi</td>\n",
       "    </tr>\n",
       "    <tr>\n",
       "      <th>3</th>\n",
       "      <td>Incredibles 2</td>\n",
       "      <td>BV</td>\n",
       "      <td>1242.8</td>\n",
       "      <td>608.6</td>\n",
       "      <td>49.0</td>\n",
       "      <td>634.2</td>\n",
       "      <td>51.0</td>\n",
       "      <td>2018</td>\n",
       "      <td>Animation, Action, Adventure</td>\n",
       "      <td>7.7</td>\n",
       "      <td>80</td>\n",
       "      <td>189268</td>\n",
       "      <td>Animation</td>\n",
       "      <td>Action</td>\n",
       "      <td>Adventure</td>\n",
       "    </tr>\n",
       "    <tr>\n",
       "      <th>4</th>\n",
       "      <td>Aquaman</td>\n",
       "      <td>WB</td>\n",
       "      <td>1146.9</td>\n",
       "      <td>334.8</td>\n",
       "      <td>29.2</td>\n",
       "      <td>812.1</td>\n",
       "      <td>70.8</td>\n",
       "      <td>2018</td>\n",
       "      <td>Action, Adventure, Fantasy</td>\n",
       "      <td>7.2</td>\n",
       "      <td>55</td>\n",
       "      <td>210821</td>\n",
       "      <td>Action</td>\n",
       "      <td>Adventure</td>\n",
       "      <td>Fantasy</td>\n",
       "    </tr>\n",
       "  </tbody>\n",
       "</table>\n",
       "</div>"
      ],
      "text/plain": [
       "                            Title Studio_Abbreviation  Worldwide_Gross  \\\n",
       "0          Avengers: Infinity War                  BV           2048.4   \n",
       "1                   Black Panther                  BV           1346.9   \n",
       "2  Jurassic World: Fallen Kingdom                Uni.           1309.5   \n",
       "3                   Incredibles 2                  BV           1242.8   \n",
       "4                         Aquaman                  WB           1146.9   \n",
       "\n",
       "   Domestic_Gross  Domestic_Share  Overseas_Gross  Overseas_Share  Year_x  \\\n",
       "0           678.8            33.1          1369.5            66.9    2018   \n",
       "1           700.1            52.0           646.9            48.0    2018   \n",
       "2           417.7            31.9           891.8            68.1    2018   \n",
       "3           608.6            49.0           634.2            51.0    2018   \n",
       "4           334.8            29.2           812.1            70.8    2018   \n",
       "\n",
       "                          Genre  IMDB_Score  Metascore   Votes  Subgenre1  \\\n",
       "0     Action, Adventure, Sci-Fi         8.5         68  609291     Action   \n",
       "1     Action, Adventure, Sci-Fi         7.3         88  484618     Action   \n",
       "2     Action, Adventure, Sci-Fi         6.2         51  206471     Action   \n",
       "3  Animation, Action, Adventure         7.7         80  189268  Animation   \n",
       "4    Action, Adventure, Fantasy         7.2         55  210821     Action   \n",
       "\n",
       "    Subgrene2   Subgrene3  \n",
       "0   Adventure      Sci-Fi  \n",
       "1   Adventure      Sci-Fi  \n",
       "2   Adventure      Sci-Fi  \n",
       "3      Action   Adventure  \n",
       "4   Adventure     Fantasy  "
      ]
     },
     "execution_count": 52,
     "metadata": {},
     "output_type": "execute_result"
    }
   ],
   "source": [
    "movie_merge.head()"
   ]
  },
  {
   "cell_type": "code",
   "execution_count": 68,
   "metadata": {},
   "outputs": [
    {
     "data": {
      "text/plain": [
       "(-0.5, 399.5, 199.5, -0.5)"
      ]
     },
     "execution_count": 68,
     "metadata": {},
     "output_type": "execute_result"
    },
    {
     "data": {
      "image/png": "[encoded data removed]",
      "text/plain": [
       "<Figure size 432x288 with 1 Axes>"
      ]
     },
     "metadata": {
      "needs_background": "light"
     },
     "output_type": "display_data"
    }
   ],
   "source": [
    "text = \" \".join(descr for descr in movie_merge['Genre'])\n",
    "wordcloud = WordCloud().generate(text)\n",
    "plt.imshow(wordcloud, interpolation='bilinear')\n",
    "plt.axis(\"off\")"
   ]
  },
  {
   "cell_type": "code",
   "execution_count": null,
   "metadata": {},
   "outputs": [],
   "source": []
  }
 ],
 "metadata": {
  "kernelspec": {
   "display_name": "Python 3",
   "language": "python",
   "name": "python3"
  },
  "language_info": {
   "codemirror_mode": {
    "name": "ipython",
    "version": 3
   },
   "file_extension": ".py",
   "mimetype": "text/x-python",
   "name": "python",
   "nbconvert_exporter": "python",
   "pygments_lexer": "ipython3",
   "version": "3.7.2"
  }
 },
 "nbformat": 4,
 "nbformat_minor": 2
}
