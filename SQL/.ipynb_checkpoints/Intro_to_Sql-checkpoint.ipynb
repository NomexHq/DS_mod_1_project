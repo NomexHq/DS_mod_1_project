{
 "cells": [
  {
   "cell_type": "markdown",
   "metadata": {
    "slideshow": {
     "slide_type": "slide"
    }
   },
   "source": [
    "# Starting off "
   ]
  },
  {
   "cell_type": "markdown",
   "metadata": {
    "slideshow": {
     "slide_type": "fragment"
    }
   },
   "source": [
    "### For last week's lab?\n",
    "- How did you store your data after scraping or pulling from the API?\n",
    "- Did you run into any issuesstoring your data this way?\n",
    "- What would you do if you need to update the saved data or add additional data points?\n"
   ]
  },
  {
   "cell_type": "markdown",
   "metadata": {
    "slideshow": {
     "slide_type": "slide"
    }
   },
   "source": [
    "# A BEGINNER’S GUIDE TO DATABASES & SQL"
   ]
  },
  {
   "cell_type": "markdown",
   "metadata": {
    "slideshow": {
     "slide_type": "subslide"
    }
   },
   "source": [
    "**Objective:** SWBAT create a SQLite db instance, create tables and insert records into those tables\n",
    "\n",
    "**Agenda:**\n",
    "- Overview of databases\n",
    "- Discuss Differences between SQL DBs\n",
    "- Explain the basic structures of a RDBMS\n",
    "- Instantiate SQLite DB instance on your computer"
   ]
  },
  {
   "cell_type": "markdown",
   "metadata": {
    "slideshow": {
     "slide_type": "slide"
    }
   },
   "source": [
    "### What is a Database?\n",
    "- In general, databases store sets of data that can be queried for use in other applications. A database management system supports the development, administration and use of database platforms."
   ]
  },
  {
   "cell_type": "markdown",
   "metadata": {
    "slideshow": {
     "slide_type": "subslide"
    }
   },
   "source": [
    "\n",
    "### What is a Relational Database? \n",
    "- A *relational database management system* (**RDBMS**) is a type of DBMS with a row-based table structure that connects related data elements and includes functions that maintain the security, accuracy, integrity and consistency of the data.\n",
    "- The most basic **RDBMS** functions are related to *create, read, update and delete* operations, collectively known as **CRUD**."
   ]
  },
  {
   "cell_type": "markdown",
   "metadata": {
    "slideshow": {
     "slide_type": "subslide"
    }
   },
   "source": [
    "### What is SQL?\n",
    "\n",
    "- **SQL** (usually pronounced like the word “sequel”) stands for Structured Query Language.\n",
    "- A programming language used to communicate with data stored in a relational database management system.\n",
    "- SQL syntax is similar to the English language, which makes it relatively easy to write, read, and interpret."
   ]
  },
  {
   "cell_type": "markdown",
   "metadata": {
    "slideshow": {
     "slide_type": "slide"
    }
   },
   "source": [
    "## POPULAR RDBMS\n",
    "\n",
    "- SQLite\n",
    "- MySQL\n",
    "- PostgreSql\n",
    "- Oracle DB\n",
    "- SQL Server"
   ]
  },
  {
   "cell_type": "markdown",
   "metadata": {
    "slideshow": {
     "slide_type": "subslide"
    }
   },
   "source": [
    "### SQLite\n",
    "\n",
    "- SQLite is a popular open source SQL database. \n",
    "- It can store an entire database in a single file.\n",
    "- It is 'lite' because it is not server based.\n",
    "- Does not have many features of server-based RDBMS like users and permissions.\n",
    "- Great to get up and running quick, not good for complex projects."
   ]
  },
  {
   "cell_type": "markdown",
   "metadata": {
    "slideshow": {
     "slide_type": "subslide"
    }
   },
   "source": [
    "### MySQL\n",
    "\n",
    "- MySQL is the most popular open source SQL database. \n",
    "- It is typically used for web application development, and often accessed using PHP. \n",
    "- It is easy to use, inexpensive, reliable and has a large community of developers who can help answer questions.\n",
    "- Open source development has lagged since Oracle has taken control of MySQL.\n",
    "- Has been known to suffer from poor performance when scaling, \n",
    "- Does not include some advanced features that developers may be used to."
   ]
  },
  {
   "cell_type": "markdown",
   "metadata": {
    "slideshow": {
     "slide_type": "subslide"
    }
   },
   "source": [
    "### PostgreSQL\n",
    "\n",
    "- PostgreSQL is an open-source SQL database that is not controlled by any corporation.\n",
    "- PostgreSQL shares many of the same advantages of MySQL.\n",
    "- It is slower in performance than other databases such as MySQL\n",
    "- Harder to come by hosts or service providers that offer managed PostgreSQL instances. "
   ]
  },
  {
   "cell_type": "markdown",
   "metadata": {
    "slideshow": {
     "slide_type": "subslide"
    }
   },
   "source": [
    "### Oracle DB\n",
    "\n",
    "- Owned by Oracle Corporation, and the code is not open sourced. \n",
    "- Oracle DB is for large applications, particularly in the banking industry. \n",
    "- The main disadvantage of using Oracle is that it is not free."
   ]
  },
  {
   "cell_type": "markdown",
   "metadata": {
    "slideshow": {
     "slide_type": "subslide"
    }
   },
   "source": [
    "### SQL Server\n",
    "\n",
    "- Microsoft owns SQL Server. \n",
    "- Large enterprise applications mostly use SQL Server.\n",
    "- Microsoft offers a free entry-level version called Express but can become very expensive as you scale your application. "
   ]
  },
  {
   "cell_type": "markdown",
   "metadata": {
    "slideshow": {
     "slide_type": "slide"
    }
   },
   "source": [
    "### What are the major parts of a SQL DB?"
   ]
  },
  {
   "cell_type": "markdown",
   "metadata": {
    "slideshow": {
     "slide_type": "fragment"
    }
   },
   "source": [
    "- Schema\n",
    "- Tables\n",
    "- Indexes\n",
    "- Views\n",
    "- Store Procedures\n",
    "- Triggers"
   ]
  },
  {
   "cell_type": "markdown",
   "metadata": {
    "slideshow": {
     "slide_type": "subslide"
    }
   },
   "source": [
    "#### Schema\n",
    "A relational database schema helps you to organize and understand the structure of a database."
   ]
  },
  {
   "cell_type": "markdown",
   "metadata": {
    "slideshow": {
     "slide_type": "fragment"
    }
   },
   "source": [
    "![alt text](employees-schema.png)"
   ]
  },
  {
   "cell_type": "markdown",
   "metadata": {},
   "source": [
    "### Entity-Relationship Model\n",
    "\n",
    "Entity-Relationship (ER) Model is based on the notion of real-world entities and relationships among them. While formulating real-world scenario into the database model, the ER Model creates entity set, relationship set, general attributes and constraints.\n"
   ]
  },
  {
   "cell_type": "markdown",
   "metadata": {
    "slideshow": {
     "slide_type": "subslide"
    }
   },
   "source": [
    "<img src=\"er_model_intro.png\" >"
   ]
  },
  {
   "cell_type": "markdown",
   "metadata": {
    "slideshow": {
     "slide_type": "fragment"
    }
   },
   "source": [
    "**Entity** − An entity in an ER Model is a real-world entity having properties called attributes. Every attribute is defined by its set of values called domain. For example, in a school database, a student is considered as an entity, with various attributes like name, age, class, etc.\n",
    "\n",
    "**Relationship** − The logical association among entities is called relationship. Relationships are mapped with entities in various ways. \n",
    "\n",
    "**Relationship Mappings** −\n",
    "\n",
    "- one to one\n",
    "- one to many\n",
    "- many to one\n",
    "- many to many\n"
   ]
  },
  {
   "cell_type": "markdown",
   "metadata": {
    "slideshow": {
     "slide_type": "subslide"
    }
   },
   "source": [
    "#### Tables\n",
    "Tables are used to store data within the database.  They are its main component and without them, the database would serve little purpose. \n"
   ]
  },
  {
   "cell_type": "markdown",
   "metadata": {
    "slideshow": {
     "slide_type": "fragment"
    }
   },
   "source": [
    "- Tables can have hundreds, thousands, sometimes even millions of rows of data. These rows are often called **records**.\n",
    "- The consists of **columns** of data that are labeled with a descriptive name (say, age for example) and have a specific data type.\n"
   ]
  },
  {
   "cell_type": "markdown",
   "metadata": {
    "slideshow": {
     "slide_type": "subslide"
    }
   },
   "source": [
    "### Indexes\n",
    "Indexes are used to make data retrieval faster. Rather than having to scan an entire table for data, an index allows the database to, directly retrieve the data being asked of it.\n"
   ]
  },
  {
   "cell_type": "markdown",
   "metadata": {
    "slideshow": {
     "slide_type": "fragment"
    }
   },
   "source": [
    "Indexes are primariy created using using a **Primary Key**.\n",
    "A primary key’s main features are:\n",
    "\n",
    "- It must contain a unique value for each row of data.\n",
    "- It cannot contain null values.\n",
    "\n",
    "A primary key is either an existing table column or a column that is specifically generated by the database according to a defined sequence."
   ]
  },
  {
   "cell_type": "markdown",
   "metadata": {
    "slideshow": {
     "slide_type": "subslide"
    }
   },
   "source": [
    "If you were a tax accountant and you wanted to create a database of your clients, which of the following columns who be a good choice for your primary key?\n",
    "\n",
    "- First Name\n",
    "- Last Name\n",
    "- Email Address\n",
    "- SSN\n",
    "- Phone Number"
   ]
  },
  {
   "cell_type": "markdown",
   "metadata": {
    "slideshow": {
     "slide_type": "subslide"
    }
   },
   "source": [
    "### Views \n",
    "\n",
    "Help combat this issue by allowing the database administrator to create “canned” or pre-built queries.\n",
    "\n",
    "Allow you to pull data from multiple tables together without moving or copying the data."
   ]
  },
  {
   "cell_type": "markdown",
   "metadata": {
    "slideshow": {
     "slide_type": "subslide"
    }
   },
   "source": [
    "### Stored Procedures\n",
    "\n",
    "There are many situations where queries alone are insufficient to solve a problem.  In these cases, developers rely on programming languages to process logic, to loop through records, and perform conditional comparisons as required.  These programs can be stored in the SQL database as stored procedures."
   ]
  },
  {
   "cell_type": "markdown",
   "metadata": {
    "slideshow": {
     "slide_type": "subslide"
    }
   },
   "source": [
    "### Triggers\n",
    "\n",
    "Triggers are special instructions that are executed when important events, such as inserting or updating records in a table happen. The most common triggers are Insert, Update, and Delete triggers.  \n",
    "\n",
    "Two items define a trigger on a table: a stored procedure and an event, such as inserting a record that invokes its execution."
   ]
  },
  {
   "cell_type": "markdown",
   "metadata": {
    "slideshow": {
     "slide_type": "slide"
    }
   },
   "source": [
    "## Working With SQLite"
   ]
  },
  {
   "cell_type": "markdown",
   "metadata": {
    "slideshow": {
     "slide_type": "subslide"
    }
   },
   "source": [
    "SQLite comes standard with Python so all you need to do to get it set up is write:\n",
    "\n",
    "`import sqlite3`"
   ]
  },
  {
   "cell_type": "markdown",
   "metadata": {
    "slideshow": {
     "slide_type": "fragment"
    }
   },
   "source": [
    "There are specific python modules that you can use to work with SQL dbs depending on the DB.\n",
    "\n",
    "- Microsoft SQL = pymssql\n",
    "- Postgres = psycopg2\n",
    "- MySQLdb = MySQLDB"
   ]
  },
  {
   "cell_type": "markdown",
   "metadata": {
    "slideshow": {
     "slide_type": "subslide"
    }
   },
   "source": [
    "### Creating a Connection\n",
    "\n",
    "Before you can do anything with your DB, you must first create a connection with it. For DBs that are server based, this can be more coplicated requiring you to know the server ip, a username, password database name, and port. \n",
    "``` python \n",
    "import MySQLdb\n",
    "conn = MySQLdb.connect(host=host, user=user, passwd=passwd, db=db)\n",
    "```"
   ]
  },
  {
   "cell_type": "markdown",
   "metadata": {
    "slideshow": {
     "slide_type": "subslide"
    }
   },
   "source": [
    "For SQLite, this is much easier because you just need to access the flat file where the DB is stored. "
   ]
  },
  {
   "cell_type": "code",
   "execution_count": 1,
   "metadata": {
    "slideshow": {
     "slide_type": "fragment"
    }
   },
   "outputs": [],
   "source": [
    "import sqlite3\n",
    "\n",
    "conn = sqlite3.connect('tutorial.db')\n"
   ]
  },
  {
   "cell_type": "markdown",
   "metadata": {
    "slideshow": {
     "slide_type": "subslide"
    }
   },
   "source": [
    "#### Cursor\n",
    "This temporary work area is used to store the data retrieved from the database, and manipulate this data. \n",
    "\n",
    "A cursor can hold more than one row, but can process only one row at a time. \n",
    "\n",
    "The set of rows the cursor holds is called the active set."
   ]
  },
  {
   "cell_type": "code",
   "execution_count": 2,
   "metadata": {
    "slideshow": {
     "slide_type": "fragment"
    }
   },
   "outputs": [],
   "source": [
    "c = conn.cursor()"
   ]
  },
  {
   "cell_type": "markdown",
   "metadata": {
    "slideshow": {
     "slide_type": "subslide"
    }
   },
   "source": [
    "#### Create a Table\n",
    "Now that we have a connection and a cursor, lets create a table."
   ]
  },
  {
   "cell_type": "markdown",
   "metadata": {},
   "source": [
    "#### SQLite Data Types\n",
    "\n",
    "Any column declared in an SQLite database is assigned a type affinity depending on it declared data type. Here the list of type affinities in SQLite:\n",
    "\n",
    "- TEXT\n",
    "- NUMERIC\n",
    "- INTEGER\n",
    "- REAL\n",
    "- BLOB"
   ]
  },
  {
   "cell_type": "markdown",
   "metadata": {
    "slideshow": {
     "slide_type": "fragment"
    }
   },
   "source": [
    "However, you still can store any type of data as you wish, these types are recommended not required.\n",
    "\n",
    "These types were introduced in SQLite to maximize the compatibility between SQLite and other database management system."
   ]
  },
  {
   "cell_type": "markdown",
   "metadata": {
    "slideshow": {
     "slide_type": "subslide"
    }
   },
   "source": [
    "<img src=\"SQLlite_datatype.jpg\" width=450/>"
   ]
  },
  {
   "cell_type": "code",
   "execution_count": 5,
   "metadata": {},
   "outputs": [],
   "source": [
    "create_query = \"\"\"CREATE TABLE IF NOT EXISTS stuffToPlot\n",
    "        (unix REAL, datestamp TEXT, keyword TEXT, value REAL)\"\"\"\n",
    "def create_table(query):\n",
    "    c.execute(query)\n"
   ]
  },
  {
   "cell_type": "code",
   "execution_count": 6,
   "metadata": {},
   "outputs": [],
   "source": [
    "insert_query = \"\"\"INSERT INTO stuffToPlot VALUES\n",
    "                (1452549219,'2016-01-11 13:53:39','Python',6)\"\"\"\n",
    "def data_entry(query):\n",
    "    c.execute(query)\n",
    "\n",
    "    conn.commit()\n",
    "    \n",
    "def close_c_conn():\n",
    "    c.close()\n",
    "    conn.close()\n",
    "    "
   ]
  },
  {
   "cell_type": "code",
   "execution_count": 7,
   "metadata": {
    "slideshow": {
     "slide_type": "fragment"
    }
   },
   "outputs": [],
   "source": [
    "create_table(create_query)\n",
    "data_entry(insert_query)\n",
    "\n",
    "close_c_conn()"
   ]
  },
  {
   "cell_type": "markdown",
   "metadata": {
    "slideshow": {
     "slide_type": "subslide"
    }
   },
   "source": [
    "#### Inserting Data dynamically"
   ]
  },
  {
   "cell_type": "code",
   "execution_count": 14,
   "metadata": {
    "slideshow": {
     "slide_type": "fragment"
    }
   },
   "outputs": [],
   "source": [
    "import time\n",
    "import datetime\n",
    "import random\n",
    "import pandas as pd"
   ]
  },
  {
   "cell_type": "code",
   "execution_count": 9,
   "metadata": {},
   "outputs": [],
   "source": [
    "conn = sqlite3.connect('tutorial.db')\n",
    "c = conn.cursor()"
   ]
  },
  {
   "cell_type": "code",
   "execution_count": 17,
   "metadata": {
    "slideshow": {
     "slide_type": "subslide"
    }
   },
   "outputs": [],
   "source": [
    "def dynamic_data_entry():\n",
    "\n",
    "    unix = int(time.time())\n",
    "    date = str(datetime.datetime.fromtimestamp(unix).strftime('%Y-%m-%d %H:%M:%S'))\n",
    "    keyword = 'Python'\n",
    "    value = random.randrange(0,10)\n",
    "  \n",
    "    c.execute(\"INSERT INTO stuffToPlot (unix, datestamp, keyword, value) VALUES (?, ?, ?, ?)\",\n",
    "          (unix, date, keyword, value))\n",
    "\n",
    "    conn.commit()"
   ]
  },
  {
   "cell_type": "code",
   "execution_count": 18,
   "metadata": {
    "slideshow": {
     "slide_type": "fragment"
    }
   },
   "outputs": [],
   "source": [
    "for i in range(10):\n",
    "    dynamic_data_entry()\n",
    "    time.sleep(1)\n",
    "\n",
    "# c.close\n",
    "# conn.close()"
   ]
  },
  {
   "cell_type": "markdown",
   "metadata": {
    "slideshow": {
     "slide_type": "subslide"
    }
   },
   "source": [
    "We can also write a query that reads from the DB"
   ]
  },
  {
   "cell_type": "code",
   "execution_count": 24,
   "metadata": {
    "slideshow": {
     "slide_type": "fragment"
    }
   },
   "outputs": [
    {
     "name": "stdout",
     "output_type": "stream",
     "text": [
      "(1452549219.0, '2016-01-11 13:53:39', 'Python', 6.0)\n",
      "(1553539359.0, '2019-03-25 14:42:39', 'Python', 7.0)\n",
      "(1553539391.0, '2019-03-25 14:43:11', 'Python', 1.0)\n",
      "(1553539526.0, '2019-03-25 14:45:26', 'Python', 1.0)\n",
      "(1553539527.0, '2019-03-25 14:45:27', 'Python', 1.0)\n",
      "(1553539528.0, '2019-03-25 14:45:28', 'Python', 3.0)\n",
      "(1553539529.0, '2019-03-25 14:45:29', 'Python', 8.0)\n",
      "(1553539530.0, '2019-03-25 14:45:30', 'Python', 9.0)\n",
      "(1553539531.0, '2019-03-25 14:45:31', 'Python', 0.0)\n",
      "(1553539532.0, '2019-03-25 14:45:32', 'Python', 5.0)\n",
      "(1553539533.0, '2019-03-25 14:45:33', 'Python', 6.0)\n",
      "(1553539534.0, '2019-03-25 14:45:34', 'Python', 6.0)\n",
      "(1553539535.0, '2019-03-25 14:45:35', 'Python', 7.0)\n"
     ]
    }
   ],
   "source": [
    "def read_from_db():\n",
    "    c.execute('SELECT * FROM stuffToPlot')\n",
    "    data = c.fetchall()\n",
    "#     print(data)\n",
    "    for row in data:\n",
    "        print(row)\n",
    "\n",
    "read_from_db()"
   ]
  },
  {
   "cell_type": "markdown",
   "metadata": {
    "slideshow": {
     "slide_type": "subslide"
    }
   },
   "source": [
    "We can also read a table straight into a pandas DF."
   ]
  },
  {
   "cell_type": "code",
   "execution_count": 25,
   "metadata": {
    "slideshow": {
     "slide_type": "fragment"
    }
   },
   "outputs": [
    {
     "data": {
      "text/html": [
       "<div>\n",
       "<style scoped>\n",
       "    .dataframe tbody tr th:only-of-type {\n",
       "        vertical-align: middle;\n",
       "    }\n",
       "\n",
       "    .dataframe tbody tr th {\n",
       "        vertical-align: top;\n",
       "    }\n",
       "\n",
       "    .dataframe thead th {\n",
       "        text-align: right;\n",
       "    }\n",
       "</style>\n",
       "<table border=\"1\" class=\"dataframe\">\n",
       "  <thead>\n",
       "    <tr style=\"text-align: right;\">\n",
       "      <th></th>\n",
       "      <th>unix</th>\n",
       "      <th>datestamp</th>\n",
       "      <th>keyword</th>\n",
       "      <th>value</th>\n",
       "    </tr>\n",
       "  </thead>\n",
       "  <tbody>\n",
       "    <tr>\n",
       "      <th>0</th>\n",
       "      <td>1.452549e+09</td>\n",
       "      <td>2016-01-11 13:53:39</td>\n",
       "      <td>Python</td>\n",
       "      <td>6.0</td>\n",
       "    </tr>\n",
       "    <tr>\n",
       "      <th>1</th>\n",
       "      <td>1.553539e+09</td>\n",
       "      <td>2019-03-25 14:42:39</td>\n",
       "      <td>Python</td>\n",
       "      <td>7.0</td>\n",
       "    </tr>\n",
       "    <tr>\n",
       "      <th>2</th>\n",
       "      <td>1.553539e+09</td>\n",
       "      <td>2019-03-25 14:43:11</td>\n",
       "      <td>Python</td>\n",
       "      <td>1.0</td>\n",
       "    </tr>\n",
       "    <tr>\n",
       "      <th>3</th>\n",
       "      <td>1.553540e+09</td>\n",
       "      <td>2019-03-25 14:45:26</td>\n",
       "      <td>Python</td>\n",
       "      <td>1.0</td>\n",
       "    </tr>\n",
       "    <tr>\n",
       "      <th>4</th>\n",
       "      <td>1.553540e+09</td>\n",
       "      <td>2019-03-25 14:45:27</td>\n",
       "      <td>Python</td>\n",
       "      <td>1.0</td>\n",
       "    </tr>\n",
       "    <tr>\n",
       "      <th>5</th>\n",
       "      <td>1.553540e+09</td>\n",
       "      <td>2019-03-25 14:45:28</td>\n",
       "      <td>Python</td>\n",
       "      <td>3.0</td>\n",
       "    </tr>\n",
       "    <tr>\n",
       "      <th>6</th>\n",
       "      <td>1.553540e+09</td>\n",
       "      <td>2019-03-25 14:45:29</td>\n",
       "      <td>Python</td>\n",
       "      <td>8.0</td>\n",
       "    </tr>\n",
       "    <tr>\n",
       "      <th>7</th>\n",
       "      <td>1.553540e+09</td>\n",
       "      <td>2019-03-25 14:45:30</td>\n",
       "      <td>Python</td>\n",
       "      <td>9.0</td>\n",
       "    </tr>\n",
       "    <tr>\n",
       "      <th>8</th>\n",
       "      <td>1.553540e+09</td>\n",
       "      <td>2019-03-25 14:45:31</td>\n",
       "      <td>Python</td>\n",
       "      <td>0.0</td>\n",
       "    </tr>\n",
       "    <tr>\n",
       "      <th>9</th>\n",
       "      <td>1.553540e+09</td>\n",
       "      <td>2019-03-25 14:45:32</td>\n",
       "      <td>Python</td>\n",
       "      <td>5.0</td>\n",
       "    </tr>\n",
       "    <tr>\n",
       "      <th>10</th>\n",
       "      <td>1.553540e+09</td>\n",
       "      <td>2019-03-25 14:45:33</td>\n",
       "      <td>Python</td>\n",
       "      <td>6.0</td>\n",
       "    </tr>\n",
       "    <tr>\n",
       "      <th>11</th>\n",
       "      <td>1.553540e+09</td>\n",
       "      <td>2019-03-25 14:45:34</td>\n",
       "      <td>Python</td>\n",
       "      <td>6.0</td>\n",
       "    </tr>\n",
       "    <tr>\n",
       "      <th>12</th>\n",
       "      <td>1.553540e+09</td>\n",
       "      <td>2019-03-25 14:45:35</td>\n",
       "      <td>Python</td>\n",
       "      <td>7.0</td>\n",
       "    </tr>\n",
       "  </tbody>\n",
       "</table>\n",
       "</div>"
      ],
      "text/plain": [
       "            unix            datestamp keyword  value\n",
       "0   1.452549e+09  2016-01-11 13:53:39  Python    6.0\n",
       "1   1.553539e+09  2019-03-25 14:42:39  Python    7.0\n",
       "2   1.553539e+09  2019-03-25 14:43:11  Python    1.0\n",
       "3   1.553540e+09  2019-03-25 14:45:26  Python    1.0\n",
       "4   1.553540e+09  2019-03-25 14:45:27  Python    1.0\n",
       "5   1.553540e+09  2019-03-25 14:45:28  Python    3.0\n",
       "6   1.553540e+09  2019-03-25 14:45:29  Python    8.0\n",
       "7   1.553540e+09  2019-03-25 14:45:30  Python    9.0\n",
       "8   1.553540e+09  2019-03-25 14:45:31  Python    0.0\n",
       "9   1.553540e+09  2019-03-25 14:45:32  Python    5.0\n",
       "10  1.553540e+09  2019-03-25 14:45:33  Python    6.0\n",
       "11  1.553540e+09  2019-03-25 14:45:34  Python    6.0\n",
       "12  1.553540e+09  2019-03-25 14:45:35  Python    7.0"
      ]
     },
     "execution_count": 25,
     "metadata": {},
     "output_type": "execute_result"
    }
   ],
   "source": [
    "import pandas as pd\n",
    "pd.read_sql_query(\"select * from stuffToPlot;\", conn)\n"
   ]
  },
  {
   "cell_type": "markdown",
   "metadata": {
    "slideshow": {
     "slide_type": "subslide"
    }
   },
   "source": [
    "And we can create a DB table directly from a pandas DF."
   ]
  },
  {
   "cell_type": "code",
   "execution_count": 26,
   "metadata": {},
   "outputs": [
    {
     "data": {
      "text/html": [
       "<div>\n",
       "<style scoped>\n",
       "    .dataframe tbody tr th:only-of-type {\n",
       "        vertical-align: middle;\n",
       "    }\n",
       "\n",
       "    .dataframe tbody tr th {\n",
       "        vertical-align: top;\n",
       "    }\n",
       "\n",
       "    .dataframe thead th {\n",
       "        text-align: right;\n",
       "    }\n",
       "</style>\n",
       "<table border=\"1\" class=\"dataframe\">\n",
       "  <thead>\n",
       "    <tr style=\"text-align: right;\">\n",
       "      <th></th>\n",
       "      <th>LatD</th>\n",
       "      <th>\"LatM\"</th>\n",
       "      <th>\"LatS\"</th>\n",
       "      <th>\"NS\"</th>\n",
       "      <th>\"LonD\"</th>\n",
       "      <th>\"LonM\"</th>\n",
       "      <th>\"LonS\"</th>\n",
       "      <th>\"EW\"</th>\n",
       "      <th>\"City\"</th>\n",
       "      <th>\"State\"</th>\n",
       "    </tr>\n",
       "  </thead>\n",
       "  <tbody>\n",
       "    <tr>\n",
       "      <th>0</th>\n",
       "      <td>41</td>\n",
       "      <td>5</td>\n",
       "      <td>59</td>\n",
       "      <td>\"N\"</td>\n",
       "      <td>80</td>\n",
       "      <td>39</td>\n",
       "      <td>0</td>\n",
       "      <td>\"W\"</td>\n",
       "      <td>\"Youngstown\"</td>\n",
       "      <td>OH</td>\n",
       "    </tr>\n",
       "    <tr>\n",
       "      <th>1</th>\n",
       "      <td>42</td>\n",
       "      <td>52</td>\n",
       "      <td>48</td>\n",
       "      <td>\"N\"</td>\n",
       "      <td>97</td>\n",
       "      <td>23</td>\n",
       "      <td>23</td>\n",
       "      <td>\"W\"</td>\n",
       "      <td>\"Yankton\"</td>\n",
       "      <td>SD</td>\n",
       "    </tr>\n",
       "    <tr>\n",
       "      <th>2</th>\n",
       "      <td>46</td>\n",
       "      <td>35</td>\n",
       "      <td>59</td>\n",
       "      <td>\"N\"</td>\n",
       "      <td>120</td>\n",
       "      <td>30</td>\n",
       "      <td>36</td>\n",
       "      <td>\"W\"</td>\n",
       "      <td>\"Yakima\"</td>\n",
       "      <td>WA</td>\n",
       "    </tr>\n",
       "    <tr>\n",
       "      <th>3</th>\n",
       "      <td>42</td>\n",
       "      <td>16</td>\n",
       "      <td>12</td>\n",
       "      <td>\"N\"</td>\n",
       "      <td>71</td>\n",
       "      <td>48</td>\n",
       "      <td>0</td>\n",
       "      <td>\"W\"</td>\n",
       "      <td>\"Worcester\"</td>\n",
       "      <td>MA</td>\n",
       "    </tr>\n",
       "    <tr>\n",
       "      <th>4</th>\n",
       "      <td>43</td>\n",
       "      <td>37</td>\n",
       "      <td>48</td>\n",
       "      <td>\"N\"</td>\n",
       "      <td>89</td>\n",
       "      <td>46</td>\n",
       "      <td>11</td>\n",
       "      <td>\"W\"</td>\n",
       "      <td>\"Wisconsin Dells\"</td>\n",
       "      <td>WI</td>\n",
       "    </tr>\n",
       "  </tbody>\n",
       "</table>\n",
       "</div>"
      ],
      "text/plain": [
       "   LatD   \"LatM\"   \"LatS\"  \"NS\"   \"LonD\"   \"LonM\"   \"LonS\"  \"EW\"  \\\n",
       "0    41        5       59   \"N\"       80       39        0   \"W\"   \n",
       "1    42       52       48   \"N\"       97       23       23   \"W\"   \n",
       "2    46       35       59   \"N\"      120       30       36   \"W\"   \n",
       "3    42       16       12   \"N\"       71       48        0   \"W\"   \n",
       "4    43       37       48   \"N\"       89       46       11   \"W\"   \n",
       "\n",
       "               \"City\"  \"State\"  \n",
       "0        \"Youngstown\"       OH  \n",
       "1           \"Yankton\"       SD  \n",
       "2            \"Yakima\"       WA  \n",
       "3         \"Worcester\"       MA  \n",
       "4   \"Wisconsin Dells\"       WI  "
      ]
     },
     "execution_count": 26,
     "metadata": {},
     "output_type": "execute_result"
    }
   ],
   "source": [
    "cities = pd.read_csv('cities.csv')\n",
    "cities.head()"
   ]
  },
  {
   "cell_type": "code",
   "execution_count": 27,
   "metadata": {
    "slideshow": {
     "slide_type": "fragment"
    }
   },
   "outputs": [
    {
     "name": "stderr",
     "output_type": "stream",
     "text": [
      "C:\\Users\\dlm66\\Anaconda3\\lib\\site-packages\\pandas\\core\\generic.py:2532: UserWarning: The spaces in these column names will not be changed. In pandas versions < 0.14, spaces were converted to underscores.\n",
      "  dtype=dtype, method=method)\n"
     ]
    }
   ],
   "source": [
    "cities.to_sql(\"cities\", conn, if_exists=\"replace\")\n"
   ]
  },
  {
   "cell_type": "code",
   "execution_count": 28,
   "metadata": {},
   "outputs": [
    {
     "name": "stdout",
     "output_type": "stream",
     "text": [
      "[(0, 41, 5, 59, ' \"N\"', 80, 39, 0, ' \"W\"', ' \"Youngstown\"', ' OH'), (1, 42, 52, 48, ' \"N\"', 97, 23, 23, ' \"W\"', ' \"Yankton\"', ' SD'), (2, 46, 35, 59, ' \"N\"', 120, 30, 36, ' \"W\"', ' \"Yakima\"', ' WA'), (3, 42, 16, 12, ' \"N\"', 71, 48, 0, ' \"W\"', ' \"Worcester\"', ' MA'), (4, 43, 37, 48, ' \"N\"', 89, 46, 11, ' \"W\"', ' \"Wisconsin Dells\"', ' WI'), (5, 36, 5, 59, ' \"N\"', 80, 15, 0, ' \"W\"', ' \"Winston-Salem\"', ' NC'), (6, 49, 52, 48, ' \"N\"', 97, 9, 0, ' \"W\"', ' \"Winnipeg\"', ' MB'), (7, 39, 11, 23, ' \"N\"', 78, 9, 36, ' \"W\"', ' \"Winchester\"', ' VA'), (8, 34, 14, 24, ' \"N\"', 77, 55, 11, ' \"W\"', ' \"Wilmington\"', ' NC'), (9, 39, 45, 0, ' \"N\"', 75, 33, 0, ' \"W\"', ' \"Wilmington\"', ' DE')]\n",
      "(0, 41, 5, 59, ' \"N\"', 80, 39, 0, ' \"W\"', ' \"Youngstown\"', ' OH')\n",
      "(1, 42, 52, 48, ' \"N\"', 97, 23, 23, ' \"W\"', ' \"Yankton\"', ' SD')\n",
      "(2, 46, 35, 59, ' \"N\"', 120, 30, 36, ' \"W\"', ' \"Yakima\"', ' WA')\n",
      "(3, 42, 16, 12, ' \"N\"', 71, 48, 0, ' \"W\"', ' \"Worcester\"', ' MA')\n",
      "(4, 43, 37, 48, ' \"N\"', 89, 46, 11, ' \"W\"', ' \"Wisconsin Dells\"', ' WI')\n",
      "(5, 36, 5, 59, ' \"N\"', 80, 15, 0, ' \"W\"', ' \"Winston-Salem\"', ' NC')\n",
      "(6, 49, 52, 48, ' \"N\"', 97, 9, 0, ' \"W\"', ' \"Winnipeg\"', ' MB')\n",
      "(7, 39, 11, 23, ' \"N\"', 78, 9, 36, ' \"W\"', ' \"Winchester\"', ' VA')\n",
      "(8, 34, 14, 24, ' \"N\"', 77, 55, 11, ' \"W\"', ' \"Wilmington\"', ' NC')\n",
      "(9, 39, 45, 0, ' \"N\"', 75, 33, 0, ' \"W\"', ' \"Wilmington\"', ' DE')\n"
     ]
    }
   ],
   "source": [
    "def read_from_db():\n",
    "    c.execute('SELECT * FROM cities LIMIT 10')\n",
    "    data = c.fetchall()\n",
    "    print(data)\n",
    "    for row in data:\n",
    "        print(row)\n",
    "\n",
    "read_from_db()"
   ]
  },
  {
   "cell_type": "markdown",
   "metadata": {},
   "source": [
    "### Your Turn\n",
    "\n",
    "In the zip folder you have a json file with informationa bout all of the students in this class.  \n",
    "- Read in the JSON file\n",
    "- Examine data in file\n",
    "- Create a table for the data\n",
    "- Create a function to insert each data entry dynamically\n",
    "- Insert Data\n",
    "- Write queries to answer the following questions"
   ]
  },
  {
   "cell_type": "code",
   "execution_count": 66,
   "metadata": {},
   "outputs": [
    {
     "data": {
      "text/plain": [
       "22"
      ]
     },
     "execution_count": 66,
     "metadata": {},
     "output_type": "execute_result"
    }
   ],
   "source": [
    "import json\n",
    "f = open('students.json')\n",
    "data = json.load(f)\n",
    "type(data)\n",
    "len(data)"
   ]
  },
  {
   "cell_type": "code",
   "execution_count": 67,
   "metadata": {},
   "outputs": [
    {
     "ename": "OperationalError",
     "evalue": "table Students already exists",
     "output_type": "error",
     "traceback": [
      "\u001b[1;31m---------------------------------------------------------------------------\u001b[0m",
      "\u001b[1;31mOperationalError\u001b[0m                          Traceback (most recent call last)",
      "\u001b[1;32m<ipython-input-67-8b12eace344f>\u001b[0m in \u001b[0;36m<module>\u001b[1;34m\u001b[0m\n\u001b[0;32m      3\u001b[0m \u001b[0mc\u001b[0m \u001b[1;33m=\u001b[0m \u001b[0mconn\u001b[0m\u001b[1;33m.\u001b[0m\u001b[0mcursor\u001b[0m\u001b[1;33m(\u001b[0m\u001b[1;33m)\u001b[0m\u001b[1;33m\u001b[0m\u001b[1;33m\u001b[0m\u001b[0m\n\u001b[0;32m      4\u001b[0m \u001b[1;32mfor\u001b[0m \u001b[0mi\u001b[0m \u001b[1;32min\u001b[0m \u001b[0mrange\u001b[0m\u001b[1;33m(\u001b[0m\u001b[0mlen\u001b[0m\u001b[1;33m(\u001b[0m\u001b[1;33m(\u001b[0m\u001b[0mdata\u001b[0m\u001b[1;33m)\u001b[0m\u001b[1;33m)\u001b[0m\u001b[1;33m)\u001b[0m\u001b[1;33m:\u001b[0m\u001b[1;33m\u001b[0m\u001b[1;33m\u001b[0m\u001b[0m\n\u001b[1;32m----> 5\u001b[1;33m     \u001b[0mc\u001b[0m\u001b[1;33m.\u001b[0m\u001b[0mexecute\u001b[0m\u001b[1;33m(\u001b[0m\u001b[1;34m'CREATE TABLE Students (id INTEGER PRIMARY KEY, name TEXT, birthdate NUMERIC, siblings INTEGER, Birthplace TEXT, yearsinnyc REAL, favoritefood TEXT)'\u001b[0m\u001b[1;33m,\u001b[0m \u001b[1;33m(\u001b[0m\u001b[0mdata\u001b[0m\u001b[1;33m[\u001b[0m\u001b[0mi\u001b[0m\u001b[1;33m]\u001b[0m\u001b[1;33m)\u001b[0m\u001b[1;33m)\u001b[0m\u001b[1;33m\u001b[0m\u001b[1;33m\u001b[0m\u001b[0m\n\u001b[0m",
      "\u001b[1;31mOperationalError\u001b[0m: table Students already exists"
     ]
    }
   ],
   "source": [
    "import sqlite3\n",
    "conn = sqlite3.connect('students.db')\n",
    "c = conn.cursor()\n",
    "for i in range(len((data))):\n",
    "    c.execute('CREATE TABLE Students (id INTEGER PRIMARY KEY, name TEXT, birthdate NUMERIC, siblings INTEGER, Birthplace TEXT, yearsinnyc REAL, favoritefood TEXT)', (data[i]))"
   ]
  },
  {
   "cell_type": "code",
   "execution_count": 50,
   "metadata": {
    "scrolled": true
   },
   "outputs": [
    {
     "ename": "OperationalError",
     "evalue": "table Students already exists",
     "output_type": "error",
     "traceback": [
      "\u001b[1;31m---------------------------------------------------------------------------\u001b[0m",
      "\u001b[1;31mOperationalError\u001b[0m                          Traceback (most recent call last)",
      "\u001b[1;32m<ipython-input-50-5ac5f39d05d9>\u001b[0m in \u001b[0;36m<module>\u001b[1;34m\u001b[0m\n\u001b[1;32m----> 1\u001b[1;33m \u001b[0mc\u001b[0m\u001b[1;33m.\u001b[0m\u001b[0mexecute\u001b[0m\u001b[1;33m(\u001b[0m\u001b[1;34m'''CREATE TABLE Students (id INTEGER PRIMARY KEY, name TEXT, birthdate NUMERIC, siblings INTEGER, Birthplace TEXT, yearsinnyc REAL, favoritefood TEXT)'''\u001b[0m\u001b[1;33m)\u001b[0m\u001b[1;33m\u001b[0m\u001b[1;33m\u001b[0m\u001b[0m\n\u001b[0m\u001b[0;32m      2\u001b[0m \u001b[0mc\u001b[0m\u001b[1;33m.\u001b[0m\u001b[0mexecute\u001b[0m\u001b[1;33m(\u001b[0m\u001b[1;34m'''INSERT INTO Students VALUES (data)'''\u001b[0m\u001b[1;33m)\u001b[0m\u001b[1;33m\u001b[0m\u001b[1;33m\u001b[0m\u001b[0m\n",
      "\u001b[1;31mOperationalError\u001b[0m: table Students already exists"
     ]
    }
   ],
   "source": [
    "def data_entry():\n",
    "    c.execute('''CREATE TABLE Students (id INTEGER PRIMARY KEY, name TEXT, birthdate NUMERIC, siblings INTEGER, Birthplace TEXT, yearsinnyc REAL, favoritefood TEXT)''')\n"
   ]
  },
  {
   "cell_type": "code",
   "execution_count": 77,
   "metadata": {},
   "outputs": [],
   "source": [
    "def data_entry():\n",
    "    c.execute('''INSERT INTO Students (name, birthdate, siblings, Birthplace, yearsinnyc, favoritefood) VALUES (?, ?, ?, ?, ?, ?)''', (name, birthdate, siblings, Birthplace, yearsinnyc, favoritefood))\n",
    "\n",
    "for i in range(len(data)):\n",
    "    name = data[i]['name']\n",
    "    birthdate = data[i]['birthdate']\n",
    "    siblings = data[i]['siblings']\n",
    "    Birthplace = data[i]['Birthplace']\n",
    "    yearsinnyc = data[i]['yearsinnyc']\n",
    "    favoritefood = data[i]['favoritefood']\n",
    "    data_entry()\n",
    "    conn.commit()\n"
   ]
  },
  {
   "cell_type": "code",
   "execution_count": 79,
   "metadata": {},
   "outputs": [
    {
     "data": {
      "text/plain": [
       "[(1, 'Sean Abu Wilson', '02/06', 2, 'Birmingham, AL', 7.6, 'guacamole'),\n",
       " (2, 'David Miller', '06/06', 2, 'New York, NY', 25.75, 'pizza'),\n",
       " (3, 'Abhijeet Kamble', '05/07', 0, 'Wardha, India', 0.5, 'Biriyani'),\n",
       " (4,\n",
       "  'Samantha Jackson',\n",
       "  '08/04',\n",
       "  2,\n",
       "  'Newport, RI',\n",
       "  12.5,\n",
       "  'chocolate chip cookies'),\n",
       " (5, 'Anmol Srivats', '11/19', 0, 'Bangalore, India', 0.05, 'Sushi'),\n",
       " (6, 'Ran Tokman', '03/19', 2, 'Haifa, Israel', 8.0, 'cheesecake'),\n",
       " (7, 'Amy Li', '12/29', 1, 'New York, NY', 18.0, 'dumplings'),\n",
       " (8, 'Florencia Leoni', '06/07', 4, 'Caracas, Venezuela', 1.2, 'steak'),\n",
       " (9, 'Austin Krause', '10/22', 1, 'Lansing, MI', 0.17, 'Everything Bagels'),\n",
       " (10, 'Natalie Overchuk', '01/02', 2, 'Kiev, Ukraine', 0.1, 'pasta'),\n",
       " (11, 'Akshay Sharma', '04/30', 2, 'New York, NY', 24.0, 'pizza'),\n",
       " (12, 'Mohamad Eldebek', '01/21', 4, 'Beirut, Leb', 17.0, 'Tabouleh'),\n",
       " (13, 'Adam Dick', '05/06', 0, 'New York, NY', 30.0, 'noodles'),\n",
       " (14, 'Menachi Korn', '04/11', 4, 'Denville, N.J.', 18.0, 'falafel'),\n",
       " (15, 'Miguel PeÃ±a', '08/14', 4, 'Lima, Peru', 8.0, 'rice'),\n",
       " (16, 'Atiar Rahman', '02/21', 2, 'Bangladesh', 22.0, 'Reeses Puffs'),\n",
       " (17, 'Fhel Dimaano', '08/20', 1, 'Manila, Philippines', 30.0, 'Kare Kare'),\n",
       " (18, 'Maks Pazuniak', '12/19', 2, 'Wilmington, DE', 15.0, 'pho'),\n",
       " (19, 'Alex Mitrani', '12/06', 1, 'New York, NY', 28.0, 'Fusilli Sorrentina'),\n",
       " (20, 'Yish Lim', '11/21', 2, 'Singapore', 5.0, 'burgers'),\n",
       " (21, 'Nicole Roach', '06/16', 1, 'Brooklyn, NY', 18.0, 'steak'),\n",
       " (22, 'Omer Hakim', '04/30', 3, 'Haifa, Israel', 3.5, 'Avocado'),\n",
       " (23, 'Omer Hakim', '04/30', 3, 'Haifa, Israel', 3.5, 'Avocado'),\n",
       " (24, 'Sean Abu Wilson', '02/06', 2, 'Birmingham, AL', 7.6, 'guacamole'),\n",
       " (25, 'David Miller', '06/06', 2, 'New York, NY', 25.75, 'pizza'),\n",
       " (26, 'Abhijeet Kamble', '05/07', 0, 'Wardha, India', 0.5, 'Biriyani'),\n",
       " (27,\n",
       "  'Samantha Jackson',\n",
       "  '08/04',\n",
       "  2,\n",
       "  'Newport, RI',\n",
       "  12.5,\n",
       "  'chocolate chip cookies'),\n",
       " (28, 'Anmol Srivats', '11/19', 0, 'Bangalore, India', 0.05, 'Sushi'),\n",
       " (29, 'Ran Tokman', '03/19', 2, 'Haifa, Israel', 8.0, 'cheesecake'),\n",
       " (30, 'Amy Li', '12/29', 1, 'New York, NY', 18.0, 'dumplings'),\n",
       " (31, 'Florencia Leoni', '06/07', 4, 'Caracas, Venezuela', 1.2, 'steak'),\n",
       " (32, 'Austin Krause', '10/22', 1, 'Lansing, MI', 0.17, 'Everything Bagels'),\n",
       " (33, 'Natalie Overchuk', '01/02', 2, 'Kiev, Ukraine', 0.1, 'pasta'),\n",
       " (34, 'Akshay Sharma', '04/30', 2, 'New York, NY', 24.0, 'pizza'),\n",
       " (35, 'Mohamad Eldebek', '01/21', 4, 'Beirut, Leb', 17.0, 'Tabouleh'),\n",
       " (36, 'Adam Dick', '05/06', 0, 'New York, NY', 30.0, 'noodles'),\n",
       " (37, 'Menachi Korn', '04/11', 4, 'Denville, N.J.', 18.0, 'falafel'),\n",
       " (38, 'Miguel PeÃ±a', '08/14', 4, 'Lima, Peru', 8.0, 'rice'),\n",
       " (39, 'Atiar Rahman', '02/21', 2, 'Bangladesh', 22.0, 'Reeses Puffs'),\n",
       " (40, 'Fhel Dimaano', '08/20', 1, 'Manila, Philippines', 30.0, 'Kare Kare'),\n",
       " (41, 'Maks Pazuniak', '12/19', 2, 'Wilmington, DE', 15.0, 'pho'),\n",
       " (42, 'Alex Mitrani', '12/06', 1, 'New York, NY', 28.0, 'Fusilli Sorrentina'),\n",
       " (43, 'Yish Lim', '11/21', 2, 'Singapore', 5.0, 'burgers'),\n",
       " (44, 'Nicole Roach', '06/16', 1, 'Brooklyn, NY', 18.0, 'steak'),\n",
       " (45, 'Omer Hakim', '04/30', 3, 'Haifa, Israel', 3.5, 'Avocado')]"
      ]
     },
     "execution_count": 79,
     "metadata": {},
     "output_type": "execute_result"
    }
   ],
   "source": [
    "c.execute('''select * from Students''').fetchall()"
   ]
  },
  {
   "cell_type": "markdown",
   "metadata": {},
   "source": [
    "### Questions\n",
    "1. Which student was born closest to the cohort's graduation date?\n",
    "2. Which student has the most siblings?\n",
    "3. How many students are only children?\n",
    "4. Which 3 students have lived in NYC the shortest amount of time?\n",
    "5. How many students are native New Yorkers?\n",
    "5. Do any two students have the same favorite food?"
   ]
  },
  {
   "cell_type": "code",
   "execution_count": 120,
   "metadata": {},
   "outputs": [
    {
     "data": {
      "text/plain": [
       "[]"
      ]
     },
     "execution_count": 120,
     "metadata": {},
     "output_type": "execute_result"
    }
   ],
   "source": [
    "# question 1\n",
    "c.execute('''select distinct name, birthdate from Students where birthdate = abs(06/21 - birthdate) order by birthdate limit 1''').fetchall()"
   ]
  },
  {
   "cell_type": "code",
   "execution_count": 95,
   "metadata": {},
   "outputs": [
    {
     "data": {
      "text/plain": [
       "[('Florencia Leoni', 4),\n",
       " ('Mohamad Eldebek', 4),\n",
       " ('Menachi Korn', 4),\n",
       " ('Miguel PeÃ±a', 4)]"
      ]
     },
     "execution_count": 95,
     "metadata": {},
     "output_type": "execute_result"
    }
   ],
   "source": [
    "#question 2\n",
    "c.execute('''select distinct name, siblings from Students where siblings = (select max(siblings) from Students)''').fetchall()"
   ]
  },
  {
   "cell_type": "code",
   "execution_count": 96,
   "metadata": {},
   "outputs": [
    {
     "data": {
      "text/plain": [
       "[('Abhijeet Kamble', 0), ('Anmol Srivats', 0), ('Adam Dick', 0)]"
      ]
     },
     "execution_count": 96,
     "metadata": {},
     "output_type": "execute_result"
    }
   ],
   "source": [
    "#question 3\n",
    "c.execute('''select distinct name, siblings from Students where siblings=(select min(siblings) from Students)''').fetchall()"
   ]
  },
  {
   "cell_type": "code",
   "execution_count": 110,
   "metadata": {},
   "outputs": [
    {
     "data": {
      "text/plain": [
       "[('Anmol Srivats', 0.05), ('Natalie Overchuk', 0.1), ('Austin Krause', 0.17)]"
      ]
     },
     "execution_count": 110,
     "metadata": {},
     "output_type": "execute_result"
    }
   ],
   "source": [
    "# question 4\n",
    "c.execute('''select distinct name, yearsinnyc from Students order by yearsinnyc asc limit 3''').fetchall()"
   ]
  },
  {
   "cell_type": "code",
   "execution_count": 103,
   "metadata": {},
   "outputs": [
    {
     "data": {
      "text/plain": [
       "[('David Miller', 'New York, NY'),\n",
       " ('Amy Li', 'New York, NY'),\n",
       " ('Akshay Sharma', 'New York, NY'),\n",
       " ('Adam Dick', 'New York, NY'),\n",
       " ('Alex Mitrani', 'New York, NY'),\n",
       " ('Nicole Roach', 'Brooklyn, NY')]"
      ]
     },
     "execution_count": 103,
     "metadata": {},
     "output_type": "execute_result"
    }
   ],
   "source": [
    "#question 5\n",
    "c.execute('''select distinct name, Birthplace from Students where Birthplace like '%NY' ''').fetchall()"
   ]
  },
  {
   "cell_type": "code",
   "execution_count": 133,
   "metadata": {},
   "outputs": [
    {
     "data": {
      "text/plain": [
       "[(45,)]"
      ]
     },
     "execution_count": 133,
     "metadata": {},
     "output_type": "execute_result"
    }
   ],
   "source": [
    "#question 6\n",
    "c.execute('''select distinct count(favoritefood) from Students''').fetchall()"
   ]
  },
  {
   "cell_type": "code",
   "execution_count": null,
   "metadata": {},
   "outputs": [],
   "source": []
  }
 ],
 "metadata": {
  "celltoolbar": "Slideshow",
  "kernelspec": {
   "display_name": "Python 3",
   "language": "python",
   "name": "python3"
  },
  "language_info": {
   "codemirror_mode": {
    "name": "ipython",
    "version": 3
   },
   "file_extension": ".py",
   "mimetype": "text/x-python",
   "name": "python",
   "nbconvert_exporter": "python",
   "pygments_lexer": "ipython3",
   "version": "3.7.2"
  }
 },
 "nbformat": 4,
 "nbformat_minor": 2
}
